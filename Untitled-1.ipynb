{
 "cells": [
  {
   "cell_type": "code",
   "execution_count": 1,
   "source": [
    "import pandas as pd\r\n",
    "import numpy as np\r\n",
    "from sklearn.linear_model import LinearRegression\r\n",
    "%matplotlib inline"
   ],
   "outputs": [],
   "metadata": {}
  },
  {
   "cell_type": "code",
   "execution_count": 2,
   "source": [
    "#Read in CSV Data\r\n",
    "from pathlib import Path\r\n",
    "\r\n",
    "csvpath = Path('C:/Users/Myles/Documents/GitHub/Project2/ESG_Data_Cleaned.csv')\r\n",
    "df = pd.read_csv(csvpath)\r\n",
    "df.head()\r\n",
    "\r\n"
   ],
   "outputs": [
    {
     "output_type": "execute_result",
     "data": {
      "text/html": [
       "<div>\n",
       "<style scoped>\n",
       "    .dataframe tbody tr th:only-of-type {\n",
       "        vertical-align: middle;\n",
       "    }\n",
       "\n",
       "    .dataframe tbody tr th {\n",
       "        vertical-align: top;\n",
       "    }\n",
       "\n",
       "    .dataframe thead th {\n",
       "        text-align: right;\n",
       "    }\n",
       "</style>\n",
       "<table border=\"1\" class=\"dataframe\">\n",
       "  <thead>\n",
       "    <tr style=\"text-align: right;\">\n",
       "      <th></th>\n",
       "      <th>Year</th>\n",
       "      <th>Country Name</th>\n",
       "      <th>Country Code</th>\n",
       "      <th>Agriculture, forestry, and fishing, value added (% of GDP)</th>\n",
       "      <th>Fertility rate, total (births per woman)</th>\n",
       "      <th>Life expectancy at birth, total (years)</th>\n",
       "      <th>Mortality rate, under-5 (per 1,000 live births)</th>\n",
       "      <th>Population ages 65 and above (% of total population)</th>\n",
       "      <th>CO2 emissions (metric tons per capita)</th>\n",
       "    </tr>\n",
       "  </thead>\n",
       "  <tbody>\n",
       "    <tr>\n",
       "      <th>0</th>\n",
       "      <td>1960</td>\n",
       "      <td>Australia</td>\n",
       "      <td>AUS</td>\n",
       "      <td>NaN</td>\n",
       "      <td>3.453000</td>\n",
       "      <td>70.817073</td>\n",
       "      <td>24.8</td>\n",
       "      <td>8.610618</td>\n",
       "      <td>8.582937</td>\n",
       "    </tr>\n",
       "    <tr>\n",
       "      <th>1</th>\n",
       "      <td>1960</td>\n",
       "      <td>Caribbean small states</td>\n",
       "      <td>CSS</td>\n",
       "      <td>NaN</td>\n",
       "      <td>5.600340</td>\n",
       "      <td>62.746306</td>\n",
       "      <td>NaN</td>\n",
       "      <td>4.136085</td>\n",
       "      <td>1.401336</td>\n",
       "    </tr>\n",
       "    <tr>\n",
       "      <th>2</th>\n",
       "      <td>1960</td>\n",
       "      <td>Central African Republic</td>\n",
       "      <td>CAF</td>\n",
       "      <td>NaN</td>\n",
       "      <td>5.840000</td>\n",
       "      <td>36.249000</td>\n",
       "      <td>283.1</td>\n",
       "      <td>4.998109</td>\n",
       "      <td>0.058607</td>\n",
       "    </tr>\n",
       "    <tr>\n",
       "      <th>3</th>\n",
       "      <td>1960</td>\n",
       "      <td>Central Europe and the Baltics</td>\n",
       "      <td>CEB</td>\n",
       "      <td>NaN</td>\n",
       "      <td>2.497094</td>\n",
       "      <td>67.821389</td>\n",
       "      <td>NaN</td>\n",
       "      <td>7.214899</td>\n",
       "      <td>5.228903</td>\n",
       "    </tr>\n",
       "    <tr>\n",
       "      <th>4</th>\n",
       "      <td>1960</td>\n",
       "      <td>East Asia &amp; Pacific</td>\n",
       "      <td>EAS</td>\n",
       "      <td>NaN</td>\n",
       "      <td>5.393637</td>\n",
       "      <td>48.429121</td>\n",
       "      <td>NaN</td>\n",
       "      <td>3.865390</td>\n",
       "      <td>1.182973</td>\n",
       "    </tr>\n",
       "  </tbody>\n",
       "</table>\n",
       "</div>"
      ],
      "text/plain": [
       "   Year                    Country Name Country Code  \\\n",
       "0  1960                       Australia          AUS   \n",
       "1  1960          Caribbean small states          CSS   \n",
       "2  1960        Central African Republic          CAF   \n",
       "3  1960  Central Europe and the Baltics          CEB   \n",
       "4  1960             East Asia & Pacific          EAS   \n",
       "\n",
       "   Agriculture, forestry, and fishing, value added (% of GDP)  \\\n",
       "0                                                NaN            \n",
       "1                                                NaN            \n",
       "2                                                NaN            \n",
       "3                                                NaN            \n",
       "4                                                NaN            \n",
       "\n",
       "   Fertility rate, total (births per woman)  \\\n",
       "0                                  3.453000   \n",
       "1                                  5.600340   \n",
       "2                                  5.840000   \n",
       "3                                  2.497094   \n",
       "4                                  5.393637   \n",
       "\n",
       "   Life expectancy at birth, total (years)  \\\n",
       "0                                70.817073   \n",
       "1                                62.746306   \n",
       "2                                36.249000   \n",
       "3                                67.821389   \n",
       "4                                48.429121   \n",
       "\n",
       "   Mortality rate, under-5 (per 1,000 live births)  \\\n",
       "0                                             24.8   \n",
       "1                                              NaN   \n",
       "2                                            283.1   \n",
       "3                                              NaN   \n",
       "4                                              NaN   \n",
       "\n",
       "   Population ages 65 and above (% of total population)  \\\n",
       "0                                           8.610618      \n",
       "1                                           4.136085      \n",
       "2                                           4.998109      \n",
       "3                                           7.214899      \n",
       "4                                           3.865390      \n",
       "\n",
       "   CO2 emissions (metric tons per capita)  \n",
       "0                                8.582937  \n",
       "1                                1.401336  \n",
       "2                                0.058607  \n",
       "3                                5.228903  \n",
       "4                                1.182973  "
      ]
     },
     "metadata": {},
     "execution_count": 2
    }
   ],
   "metadata": {}
  },
  {
   "cell_type": "code",
   "execution_count": 3,
   "source": [
    "australia = []\r\n",
    "caribbean_small_sts = []\r\n",
    "central_african_republic = []\r\n",
    "central_europe_baltics = []\r\n",
    "east_asia_pacific = []\r\n",
    "europe_central_asia = []\r\n",
    "latin_america_caribbean = []\r\n",
    "middle_east_north_africa = []\r\n",
    "north_america = []\r\n",
    "sub_saharan_africa = []\r\n",
    "world = []\r\n"
   ],
   "outputs": [],
   "metadata": {}
  },
  {
   "cell_type": "code",
   "execution_count": 4,
   "source": [
    "# Drop Null Columns\r\n",
    "df = df.dropna(axis=1)\r\n",
    "df = df.drop(['Country Code'],axis=1)\r\n",
    "df.head()\r\n",
    "\r\n"
   ],
   "outputs": [
    {
     "output_type": "execute_result",
     "data": {
      "text/html": [
       "<div>\n",
       "<style scoped>\n",
       "    .dataframe tbody tr th:only-of-type {\n",
       "        vertical-align: middle;\n",
       "    }\n",
       "\n",
       "    .dataframe tbody tr th {\n",
       "        vertical-align: top;\n",
       "    }\n",
       "\n",
       "    .dataframe thead th {\n",
       "        text-align: right;\n",
       "    }\n",
       "</style>\n",
       "<table border=\"1\" class=\"dataframe\">\n",
       "  <thead>\n",
       "    <tr style=\"text-align: right;\">\n",
       "      <th></th>\n",
       "      <th>Year</th>\n",
       "      <th>Country Name</th>\n",
       "      <th>Fertility rate, total (births per woman)</th>\n",
       "      <th>Life expectancy at birth, total (years)</th>\n",
       "      <th>Population ages 65 and above (% of total population)</th>\n",
       "      <th>CO2 emissions (metric tons per capita)</th>\n",
       "    </tr>\n",
       "  </thead>\n",
       "  <tbody>\n",
       "    <tr>\n",
       "      <th>0</th>\n",
       "      <td>1960</td>\n",
       "      <td>Australia</td>\n",
       "      <td>3.453000</td>\n",
       "      <td>70.817073</td>\n",
       "      <td>8.610618</td>\n",
       "      <td>8.582937</td>\n",
       "    </tr>\n",
       "    <tr>\n",
       "      <th>1</th>\n",
       "      <td>1960</td>\n",
       "      <td>Caribbean small states</td>\n",
       "      <td>5.600340</td>\n",
       "      <td>62.746306</td>\n",
       "      <td>4.136085</td>\n",
       "      <td>1.401336</td>\n",
       "    </tr>\n",
       "    <tr>\n",
       "      <th>2</th>\n",
       "      <td>1960</td>\n",
       "      <td>Central African Republic</td>\n",
       "      <td>5.840000</td>\n",
       "      <td>36.249000</td>\n",
       "      <td>4.998109</td>\n",
       "      <td>0.058607</td>\n",
       "    </tr>\n",
       "    <tr>\n",
       "      <th>3</th>\n",
       "      <td>1960</td>\n",
       "      <td>Central Europe and the Baltics</td>\n",
       "      <td>2.497094</td>\n",
       "      <td>67.821389</td>\n",
       "      <td>7.214899</td>\n",
       "      <td>5.228903</td>\n",
       "    </tr>\n",
       "    <tr>\n",
       "      <th>4</th>\n",
       "      <td>1960</td>\n",
       "      <td>East Asia &amp; Pacific</td>\n",
       "      <td>5.393637</td>\n",
       "      <td>48.429121</td>\n",
       "      <td>3.865390</td>\n",
       "      <td>1.182973</td>\n",
       "    </tr>\n",
       "  </tbody>\n",
       "</table>\n",
       "</div>"
      ],
      "text/plain": [
       "   Year                    Country Name  \\\n",
       "0  1960                       Australia   \n",
       "1  1960          Caribbean small states   \n",
       "2  1960        Central African Republic   \n",
       "3  1960  Central Europe and the Baltics   \n",
       "4  1960             East Asia & Pacific   \n",
       "\n",
       "   Fertility rate, total (births per woman)  \\\n",
       "0                                  3.453000   \n",
       "1                                  5.600340   \n",
       "2                                  5.840000   \n",
       "3                                  2.497094   \n",
       "4                                  5.393637   \n",
       "\n",
       "   Life expectancy at birth, total (years)  \\\n",
       "0                                70.817073   \n",
       "1                                62.746306   \n",
       "2                                36.249000   \n",
       "3                                67.821389   \n",
       "4                                48.429121   \n",
       "\n",
       "   Population ages 65 and above (% of total population)  \\\n",
       "0                                           8.610618      \n",
       "1                                           4.136085      \n",
       "2                                           4.998109      \n",
       "3                                           7.214899      \n",
       "4                                           3.865390      \n",
       "\n",
       "   CO2 emissions (metric tons per capita)  \n",
       "0                                8.582937  \n",
       "1                                1.401336  \n",
       "2                                0.058607  \n",
       "3                                5.228903  \n",
       "4                                1.182973  "
      ]
     },
     "metadata": {},
     "execution_count": 4
    }
   ],
   "metadata": {}
  },
  {
   "cell_type": "code",
   "execution_count": 5,
   "source": [
    "def location_filter(location_name):\r\n",
    "    new_df = df[df['Country Name']==f'{location_name}']\r\n",
    "    return(new_df.head())\r\n",
    "\r\n",
    "australia_df = location_filter('Australia')\r\n",
    "caribbean_small_sts_df = location_filter('Caribbean small states')\r\n",
    "central_african_republic = location_filter('Central African Republic')\r\n",
    "central_europe_baltics = location_filter('Central Europe and the Baltics')\r\n",
    "east_asia_pacific = location_filter('East Asia & Pacific')\r\n",
    "europe_central_asia = location_filter('Europe Central Asia')\r\n",
    "latin_america_caribbean = location_filter('Latin America & Caribbean')\r\n",
    "middle_east_north_africa = location_filter('Middle East & North Africa')\r\n",
    "north_america = location_filter('North America')\r\n",
    "sub_saharan_africa = location_filter('Sub-Saharan Africa')\r\n",
    "world = location_filter('World')\r\n",
    "\r\n",
    "\r\n",
    "\r\n",
    "\r\n",
    "\r\n",
    "\r\n",
    "\r\n"
   ],
   "outputs": [],
   "metadata": {}
  },
  {
   "cell_type": "markdown",
   "source": [
    "## Separate the Features (X) from the Target (Y)"
   ],
   "metadata": {}
  },
  {
   "cell_type": "code",
   "execution_count": 6,
   "source": [
    "x = australia_df.drop(['CO2 emissions (metric tons per capita)','Country Name'],axis=1)\r\n",
    "y = australia_df[\"CO2 emissions (metric tons per capita)\"]\r\n",
    "\r\n",
    "x.head()\r\n"
   ],
   "outputs": [
    {
     "output_type": "execute_result",
     "data": {
      "text/html": [
       "<div>\n",
       "<style scoped>\n",
       "    .dataframe tbody tr th:only-of-type {\n",
       "        vertical-align: middle;\n",
       "    }\n",
       "\n",
       "    .dataframe tbody tr th {\n",
       "        vertical-align: top;\n",
       "    }\n",
       "\n",
       "    .dataframe thead th {\n",
       "        text-align: right;\n",
       "    }\n",
       "</style>\n",
       "<table border=\"1\" class=\"dataframe\">\n",
       "  <thead>\n",
       "    <tr style=\"text-align: right;\">\n",
       "      <th></th>\n",
       "      <th>Year</th>\n",
       "      <th>Fertility rate, total (births per woman)</th>\n",
       "      <th>Life expectancy at birth, total (years)</th>\n",
       "      <th>Population ages 65 and above (% of total population)</th>\n",
       "    </tr>\n",
       "  </thead>\n",
       "  <tbody>\n",
       "    <tr>\n",
       "      <th>0</th>\n",
       "      <td>1960</td>\n",
       "      <td>3.453</td>\n",
       "      <td>70.817073</td>\n",
       "      <td>8.610618</td>\n",
       "    </tr>\n",
       "    <tr>\n",
       "      <th>11</th>\n",
       "      <td>1961</td>\n",
       "      <td>3.540</td>\n",
       "      <td>70.973171</td>\n",
       "      <td>8.630204</td>\n",
       "    </tr>\n",
       "    <tr>\n",
       "      <th>22</th>\n",
       "      <td>1962</td>\n",
       "      <td>3.442</td>\n",
       "      <td>70.942439</td>\n",
       "      <td>8.640327</td>\n",
       "    </tr>\n",
       "    <tr>\n",
       "      <th>33</th>\n",
       "      <td>1963</td>\n",
       "      <td>3.332</td>\n",
       "      <td>70.911707</td>\n",
       "      <td>8.642495</td>\n",
       "    </tr>\n",
       "    <tr>\n",
       "      <th>44</th>\n",
       "      <td>1964</td>\n",
       "      <td>3.146</td>\n",
       "      <td>70.880976</td>\n",
       "      <td>8.635085</td>\n",
       "    </tr>\n",
       "  </tbody>\n",
       "</table>\n",
       "</div>"
      ],
      "text/plain": [
       "    Year  Fertility rate, total (births per woman)  \\\n",
       "0   1960                                     3.453   \n",
       "11  1961                                     3.540   \n",
       "22  1962                                     3.442   \n",
       "33  1963                                     3.332   \n",
       "44  1964                                     3.146   \n",
       "\n",
       "    Life expectancy at birth, total (years)  \\\n",
       "0                                 70.817073   \n",
       "11                                70.973171   \n",
       "22                                70.942439   \n",
       "33                                70.911707   \n",
       "44                                70.880976   \n",
       "\n",
       "    Population ages 65 and above (% of total population)  \n",
       "0                                            8.610618     \n",
       "11                                           8.630204     \n",
       "22                                           8.640327     \n",
       "33                                           8.642495     \n",
       "44                                           8.635085     "
      ]
     },
     "metadata": {},
     "execution_count": 6
    }
   ],
   "metadata": {}
  },
  {
   "cell_type": "code",
   "execution_count": 7,
   "source": [
    "# Create Features by transforming to values between 0-1\r\n",
    "#def feature(statistic):\r\n",
    "#    x[f\"{statistic}\"] = x[f\"{statistic}\"]/100\r\n",
    "#    return(x.head())\r\n",
    "#feature(\"Fertility rate, total (births per woman)\")\r\n",
    "#feature(\"Life expectancy at birth, total (years)\")\r\n",
    "#feature(\"Population ages 65 and above (% of total population)\")"
   ],
   "outputs": [
    {
     "output_type": "error",
     "ename": "IndentationError",
     "evalue": "unexpected indent (<ipython-input-7-a6fa8353e311>, line 3)",
     "traceback": [
      "\u001b[1;36m  File \u001b[1;32m\"<ipython-input-7-a6fa8353e311>\"\u001b[1;36m, line \u001b[1;32m3\u001b[0m\n\u001b[1;33m    x[f\"{statistic}\"] = x[f\"{statistic}\"]/100\u001b[0m\n\u001b[1;37m    ^\u001b[0m\n\u001b[1;31mIndentationError\u001b[0m\u001b[1;31m:\u001b[0m unexpected indent\n"
     ]
    }
   ],
   "metadata": {}
  },
  {
   "cell_type": "markdown",
   "source": [
    "## Split our data into training and testing"
   ],
   "metadata": {}
  },
  {
   "cell_type": "code",
   "execution_count": 8,
   "source": [
    "from sklearn.model_selection import train_test_split\r\n",
    "x_train, x_test, y_train, y_test= train_test_split(x, y, test_size=0.25, random_state=2)\r\n",
    "x_train.shape\r\n"
   ],
   "outputs": [
    {
     "output_type": "execute_result",
     "data": {
      "text/plain": [
       "(3, 4)"
      ]
     },
     "metadata": {},
     "execution_count": 8
    }
   ],
   "metadata": {}
  },
  {
   "cell_type": "code",
   "execution_count": 11,
   "source": [
    "from sklearn.linear_model import LogisticRegression\r\n",
    "classifier = LogisticRegression(solver='lbfgs', random_state=2)\r\n",
    "classifier"
   ],
   "outputs": [
    {
     "output_type": "execute_result",
     "data": {
      "text/plain": [
       "LogisticRegression(random_state=2)"
      ]
     },
     "metadata": {},
     "execution_count": 11
    }
   ],
   "metadata": {}
  },
  {
   "cell_type": "code",
   "execution_count": 12,
   "source": [
    "classifier.fit(x_train, y_train)"
   ],
   "outputs": [
    {
     "output_type": "error",
     "ename": "ValueError",
     "evalue": "Unknown label type: 'continuous'",
     "traceback": [
      "\u001b[1;31m---------------------------------------------------------------------------\u001b[0m",
      "\u001b[1;31mValueError\u001b[0m                                Traceback (most recent call last)",
      "\u001b[1;32m<ipython-input-12-fdf0fc8db087>\u001b[0m in \u001b[0;36m<module>\u001b[1;34m\u001b[0m\n\u001b[1;32m----> 1\u001b[1;33m \u001b[0mclassifier\u001b[0m\u001b[1;33m.\u001b[0m\u001b[0mfit\u001b[0m\u001b[1;33m(\u001b[0m\u001b[0mx_train\u001b[0m\u001b[1;33m,\u001b[0m \u001b[0my_train\u001b[0m\u001b[1;33m)\u001b[0m\u001b[1;33m\u001b[0m\u001b[1;33m\u001b[0m\u001b[0m\n\u001b[0m",
      "\u001b[1;32m~\\anaconda3\\lib\\site-packages\\sklearn\\linear_model\\_logistic.py\u001b[0m in \u001b[0;36mfit\u001b[1;34m(self, X, y, sample_weight)\u001b[0m\n\u001b[0;32m   1345\u001b[0m                                    \u001b[0morder\u001b[0m\u001b[1;33m=\u001b[0m\u001b[1;34m\"C\"\u001b[0m\u001b[1;33m,\u001b[0m\u001b[1;33m\u001b[0m\u001b[1;33m\u001b[0m\u001b[0m\n\u001b[0;32m   1346\u001b[0m                                    accept_large_sparse=solver != 'liblinear')\n\u001b[1;32m-> 1347\u001b[1;33m         \u001b[0mcheck_classification_targets\u001b[0m\u001b[1;33m(\u001b[0m\u001b[0my\u001b[0m\u001b[1;33m)\u001b[0m\u001b[1;33m\u001b[0m\u001b[1;33m\u001b[0m\u001b[0m\n\u001b[0m\u001b[0;32m   1348\u001b[0m         \u001b[0mself\u001b[0m\u001b[1;33m.\u001b[0m\u001b[0mclasses_\u001b[0m \u001b[1;33m=\u001b[0m \u001b[0mnp\u001b[0m\u001b[1;33m.\u001b[0m\u001b[0munique\u001b[0m\u001b[1;33m(\u001b[0m\u001b[0my\u001b[0m\u001b[1;33m)\u001b[0m\u001b[1;33m\u001b[0m\u001b[1;33m\u001b[0m\u001b[0m\n\u001b[0;32m   1349\u001b[0m \u001b[1;33m\u001b[0m\u001b[0m\n",
      "\u001b[1;32m~\\anaconda3\\lib\\site-packages\\sklearn\\utils\\multiclass.py\u001b[0m in \u001b[0;36mcheck_classification_targets\u001b[1;34m(y)\u001b[0m\n\u001b[0;32m    181\u001b[0m     if y_type not in ['binary', 'multiclass', 'multiclass-multioutput',\n\u001b[0;32m    182\u001b[0m                       'multilabel-indicator', 'multilabel-sequences']:\n\u001b[1;32m--> 183\u001b[1;33m         \u001b[1;32mraise\u001b[0m \u001b[0mValueError\u001b[0m\u001b[1;33m(\u001b[0m\u001b[1;34m\"Unknown label type: %r\"\u001b[0m \u001b[1;33m%\u001b[0m \u001b[0my_type\u001b[0m\u001b[1;33m)\u001b[0m\u001b[1;33m\u001b[0m\u001b[1;33m\u001b[0m\u001b[0m\n\u001b[0m\u001b[0;32m    184\u001b[0m \u001b[1;33m\u001b[0m\u001b[0m\n\u001b[0;32m    185\u001b[0m \u001b[1;33m\u001b[0m\u001b[0m\n",
      "\u001b[1;31mValueError\u001b[0m: Unknown label type: 'continuous'"
     ]
    }
   ],
   "metadata": {}
  }
 ],
 "metadata": {
  "orig_nbformat": 4,
  "language_info": {
   "name": "python",
   "version": "3.8.8",
   "mimetype": "text/x-python",
   "codemirror_mode": {
    "name": "ipython",
    "version": 3
   },
   "pygments_lexer": "ipython3",
   "nbconvert_exporter": "python",
   "file_extension": ".py"
  },
  "kernelspec": {
   "name": "python3",
   "display_name": "Python 3.8.8 64-bit ('base': conda)"
  },
  "interpreter": {
   "hash": "52575ae80af061cc64d8b7f38a5cb1b871b63f9c1317091abcb24f04cea2ba60"
  }
 },
 "nbformat": 4,
 "nbformat_minor": 2
}