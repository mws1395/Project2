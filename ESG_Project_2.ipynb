{
 "cells": [
  {
   "cell_type": "code",
   "execution_count": 1,
   "source": [
    "import pandas as pd\r\n",
    "import numpy as np\r\n",
    "from pathlib import Path"
   ],
   "outputs": [],
   "metadata": {}
  },
  {
   "cell_type": "code",
   "execution_count": 2,
   "source": [
    "pwd"
   ],
   "outputs": [
    {
     "output_type": "execute_result",
     "data": {
      "text/plain": [
       "'c:\\\\Users\\\\Myles\\\\Documents\\\\GitHub\\\\Project2'"
      ]
     },
     "metadata": {},
     "execution_count": 2
    }
   ],
   "metadata": {}
  },
  {
   "cell_type": "code",
   "execution_count": 3,
   "source": [
    "csvpath = Path('/Users/Myles/Documents/GitHub/Project2/ESG_Data_Cleaned.csv')"
   ],
   "outputs": [],
   "metadata": {}
  },
  {
   "cell_type": "code",
   "execution_count": 4,
   "source": [
    "esg_df = pd.read_csv(csvpath, index_col='Year')"
   ],
   "outputs": [],
   "metadata": {}
  },
  {
   "cell_type": "code",
   "execution_count": 5,
   "source": [
    "esg_df = esg_df.drop(['Agriculture, forestry, and fishing, value added (% of GDP)','Mortality rate, under-5 (per 1,000 live births)','Country Code'],axis=1)\r\n",
    "esg_df"
   ],
   "outputs": [
    {
     "output_type": "execute_result",
     "data": {
      "text/html": [
       "<div>\n",
       "<style scoped>\n",
       "    .dataframe tbody tr th:only-of-type {\n",
       "        vertical-align: middle;\n",
       "    }\n",
       "\n",
       "    .dataframe tbody tr th {\n",
       "        vertical-align: top;\n",
       "    }\n",
       "\n",
       "    .dataframe thead th {\n",
       "        text-align: right;\n",
       "    }\n",
       "</style>\n",
       "<table border=\"1\" class=\"dataframe\">\n",
       "  <thead>\n",
       "    <tr style=\"text-align: right;\">\n",
       "      <th></th>\n",
       "      <th>Country Name</th>\n",
       "      <th>Fertility rate, total (births per woman)</th>\n",
       "      <th>Life expectancy at birth, total (years)</th>\n",
       "      <th>Population ages 65 and above (% of total population)</th>\n",
       "      <th>CO2 emissions (metric tons per capita)</th>\n",
       "    </tr>\n",
       "    <tr>\n",
       "      <th>Year</th>\n",
       "      <th></th>\n",
       "      <th></th>\n",
       "      <th></th>\n",
       "      <th></th>\n",
       "      <th></th>\n",
       "    </tr>\n",
       "  </thead>\n",
       "  <tbody>\n",
       "    <tr>\n",
       "      <th>1960</th>\n",
       "      <td>Australia</td>\n",
       "      <td>3.453000</td>\n",
       "      <td>70.817073</td>\n",
       "      <td>8.610618</td>\n",
       "      <td>8.582937</td>\n",
       "    </tr>\n",
       "    <tr>\n",
       "      <th>1960</th>\n",
       "      <td>Caribbean small states</td>\n",
       "      <td>5.600340</td>\n",
       "      <td>62.746306</td>\n",
       "      <td>4.136085</td>\n",
       "      <td>1.401336</td>\n",
       "    </tr>\n",
       "    <tr>\n",
       "      <th>1960</th>\n",
       "      <td>Central African Republic</td>\n",
       "      <td>5.840000</td>\n",
       "      <td>36.249000</td>\n",
       "      <td>4.998109</td>\n",
       "      <td>0.058607</td>\n",
       "    </tr>\n",
       "    <tr>\n",
       "      <th>1960</th>\n",
       "      <td>Central Europe and the Baltics</td>\n",
       "      <td>2.497094</td>\n",
       "      <td>67.821389</td>\n",
       "      <td>7.214899</td>\n",
       "      <td>5.228903</td>\n",
       "    </tr>\n",
       "    <tr>\n",
       "      <th>1960</th>\n",
       "      <td>East Asia &amp; Pacific</td>\n",
       "      <td>5.393637</td>\n",
       "      <td>48.429121</td>\n",
       "      <td>3.865390</td>\n",
       "      <td>1.182973</td>\n",
       "    </tr>\n",
       "    <tr>\n",
       "      <th>...</th>\n",
       "      <td>...</td>\n",
       "      <td>...</td>\n",
       "      <td>...</td>\n",
       "      <td>...</td>\n",
       "      <td>...</td>\n",
       "    </tr>\n",
       "    <tr>\n",
       "      <th>2018</th>\n",
       "      <td>Latin America &amp; Caribbean</td>\n",
       "      <td>2.027393</td>\n",
       "      <td>75.440849</td>\n",
       "      <td>8.443344</td>\n",
       "      <td>2.637363</td>\n",
       "    </tr>\n",
       "    <tr>\n",
       "      <th>2018</th>\n",
       "      <td>Middle East &amp; North Africa</td>\n",
       "      <td>2.808926</td>\n",
       "      <td>74.088833</td>\n",
       "      <td>5.182127</td>\n",
       "      <td>5.638657</td>\n",
       "    </tr>\n",
       "    <tr>\n",
       "      <th>2018</th>\n",
       "      <td>North America</td>\n",
       "      <td>1.706038</td>\n",
       "      <td>78.986791</td>\n",
       "      <td>15.952731</td>\n",
       "      <td>15.270876</td>\n",
       "    </tr>\n",
       "    <tr>\n",
       "      <th>2018</th>\n",
       "      <td>Sub-Saharan Africa</td>\n",
       "      <td>4.693213</td>\n",
       "      <td>61.273032</td>\n",
       "      <td>2.987730</td>\n",
       "      <td>0.763618</td>\n",
       "    </tr>\n",
       "    <tr>\n",
       "      <th>2018</th>\n",
       "      <td>World</td>\n",
       "      <td>2.415986</td>\n",
       "      <td>72.568658</td>\n",
       "      <td>8.873451</td>\n",
       "      <td>4.483524</td>\n",
       "    </tr>\n",
       "  </tbody>\n",
       "</table>\n",
       "<p>649 rows × 5 columns</p>\n",
       "</div>"
      ],
      "text/plain": [
       "                        Country Name  \\\n",
       "Year                                   \n",
       "1960                       Australia   \n",
       "1960          Caribbean small states   \n",
       "1960        Central African Republic   \n",
       "1960  Central Europe and the Baltics   \n",
       "1960             East Asia & Pacific   \n",
       "...                              ...   \n",
       "2018       Latin America & Caribbean   \n",
       "2018      Middle East & North Africa   \n",
       "2018                   North America   \n",
       "2018              Sub-Saharan Africa   \n",
       "2018                           World   \n",
       "\n",
       "      Fertility rate, total (births per woman)  \\\n",
       "Year                                             \n",
       "1960                                  3.453000   \n",
       "1960                                  5.600340   \n",
       "1960                                  5.840000   \n",
       "1960                                  2.497094   \n",
       "1960                                  5.393637   \n",
       "...                                        ...   \n",
       "2018                                  2.027393   \n",
       "2018                                  2.808926   \n",
       "2018                                  1.706038   \n",
       "2018                                  4.693213   \n",
       "2018                                  2.415986   \n",
       "\n",
       "      Life expectancy at birth, total (years)  \\\n",
       "Year                                            \n",
       "1960                                70.817073   \n",
       "1960                                62.746306   \n",
       "1960                                36.249000   \n",
       "1960                                67.821389   \n",
       "1960                                48.429121   \n",
       "...                                       ...   \n",
       "2018                                75.440849   \n",
       "2018                                74.088833   \n",
       "2018                                78.986791   \n",
       "2018                                61.273032   \n",
       "2018                                72.568658   \n",
       "\n",
       "      Population ages 65 and above (% of total population)  \\\n",
       "Year                                                         \n",
       "1960                                           8.610618      \n",
       "1960                                           4.136085      \n",
       "1960                                           4.998109      \n",
       "1960                                           7.214899      \n",
       "1960                                           3.865390      \n",
       "...                                                 ...      \n",
       "2018                                           8.443344      \n",
       "2018                                           5.182127      \n",
       "2018                                          15.952731      \n",
       "2018                                           2.987730      \n",
       "2018                                           8.873451      \n",
       "\n",
       "      CO2 emissions (metric tons per capita)  \n",
       "Year                                          \n",
       "1960                                8.582937  \n",
       "1960                                1.401336  \n",
       "1960                                0.058607  \n",
       "1960                                5.228903  \n",
       "1960                                1.182973  \n",
       "...                                      ...  \n",
       "2018                                2.637363  \n",
       "2018                                5.638657  \n",
       "2018                               15.270876  \n",
       "2018                                0.763618  \n",
       "2018                                4.483524  \n",
       "\n",
       "[649 rows x 5 columns]"
      ]
     },
     "metadata": {},
     "execution_count": 5
    }
   ],
   "metadata": {}
  },
  {
   "cell_type": "code",
   "execution_count": 6,
   "source": [
    "esg_df = esg_df.dropna()"
   ],
   "outputs": [],
   "metadata": {}
  },
  {
   "cell_type": "code",
   "execution_count": 7,
   "source": [
    "esg_df.head()"
   ],
   "outputs": [
    {
     "output_type": "execute_result",
     "data": {
      "text/html": [
       "<div>\n",
       "<style scoped>\n",
       "    .dataframe tbody tr th:only-of-type {\n",
       "        vertical-align: middle;\n",
       "    }\n",
       "\n",
       "    .dataframe tbody tr th {\n",
       "        vertical-align: top;\n",
       "    }\n",
       "\n",
       "    .dataframe thead th {\n",
       "        text-align: right;\n",
       "    }\n",
       "</style>\n",
       "<table border=\"1\" class=\"dataframe\">\n",
       "  <thead>\n",
       "    <tr style=\"text-align: right;\">\n",
       "      <th></th>\n",
       "      <th>Country Name</th>\n",
       "      <th>Fertility rate, total (births per woman)</th>\n",
       "      <th>Life expectancy at birth, total (years)</th>\n",
       "      <th>Population ages 65 and above (% of total population)</th>\n",
       "      <th>CO2 emissions (metric tons per capita)</th>\n",
       "    </tr>\n",
       "    <tr>\n",
       "      <th>Year</th>\n",
       "      <th></th>\n",
       "      <th></th>\n",
       "      <th></th>\n",
       "      <th></th>\n",
       "      <th></th>\n",
       "    </tr>\n",
       "  </thead>\n",
       "  <tbody>\n",
       "    <tr>\n",
       "      <th>1960</th>\n",
       "      <td>Australia</td>\n",
       "      <td>3.453000</td>\n",
       "      <td>70.817073</td>\n",
       "      <td>8.610618</td>\n",
       "      <td>8.582937</td>\n",
       "    </tr>\n",
       "    <tr>\n",
       "      <th>1960</th>\n",
       "      <td>Caribbean small states</td>\n",
       "      <td>5.600340</td>\n",
       "      <td>62.746306</td>\n",
       "      <td>4.136085</td>\n",
       "      <td>1.401336</td>\n",
       "    </tr>\n",
       "    <tr>\n",
       "      <th>1960</th>\n",
       "      <td>Central African Republic</td>\n",
       "      <td>5.840000</td>\n",
       "      <td>36.249000</td>\n",
       "      <td>4.998109</td>\n",
       "      <td>0.058607</td>\n",
       "    </tr>\n",
       "    <tr>\n",
       "      <th>1960</th>\n",
       "      <td>Central Europe and the Baltics</td>\n",
       "      <td>2.497094</td>\n",
       "      <td>67.821389</td>\n",
       "      <td>7.214899</td>\n",
       "      <td>5.228903</td>\n",
       "    </tr>\n",
       "    <tr>\n",
       "      <th>1960</th>\n",
       "      <td>East Asia &amp; Pacific</td>\n",
       "      <td>5.393637</td>\n",
       "      <td>48.429121</td>\n",
       "      <td>3.865390</td>\n",
       "      <td>1.182973</td>\n",
       "    </tr>\n",
       "  </tbody>\n",
       "</table>\n",
       "</div>"
      ],
      "text/plain": [
       "                        Country Name  \\\n",
       "Year                                   \n",
       "1960                       Australia   \n",
       "1960          Caribbean small states   \n",
       "1960        Central African Republic   \n",
       "1960  Central Europe and the Baltics   \n",
       "1960             East Asia & Pacific   \n",
       "\n",
       "      Fertility rate, total (births per woman)  \\\n",
       "Year                                             \n",
       "1960                                  3.453000   \n",
       "1960                                  5.600340   \n",
       "1960                                  5.840000   \n",
       "1960                                  2.497094   \n",
       "1960                                  5.393637   \n",
       "\n",
       "      Life expectancy at birth, total (years)  \\\n",
       "Year                                            \n",
       "1960                                70.817073   \n",
       "1960                                62.746306   \n",
       "1960                                36.249000   \n",
       "1960                                67.821389   \n",
       "1960                                48.429121   \n",
       "\n",
       "      Population ages 65 and above (% of total population)  \\\n",
       "Year                                                         \n",
       "1960                                           8.610618      \n",
       "1960                                           4.136085      \n",
       "1960                                           4.998109      \n",
       "1960                                           7.214899      \n",
       "1960                                           3.865390      \n",
       "\n",
       "      CO2 emissions (metric tons per capita)  \n",
       "Year                                          \n",
       "1960                                8.582937  \n",
       "1960                                1.401336  \n",
       "1960                                0.058607  \n",
       "1960                                5.228903  \n",
       "1960                                1.182973  "
      ]
     },
     "metadata": {},
     "execution_count": 7
    }
   ],
   "metadata": {}
  },
  {
   "cell_type": "code",
   "execution_count": 8,
   "source": [
    "# new_esg = esg_df.copy()\r\n",
    "\r\n",
    "# #Transform data\r\n",
    "# new_esg['Fertility rate, total (births per woman)']=new_esg['Fertility rate, total (births per woman)']/100\r\n",
    "# new_esg['Life expectancy at birth, total (years)']=new_esg['Life expectancy at birth, total (years)']/100\r\n",
    "# new_esg['Population ages 65 and above (% of total population)'] = new_esg['Population ages 65 and above (% of total population)']/100"
   ],
   "outputs": [],
   "metadata": {}
  },
  {
   "cell_type": "code",
   "execution_count": 9,
   "source": [
    "# new_esg"
   ],
   "outputs": [],
   "metadata": {}
  },
  {
   "cell_type": "code",
   "execution_count": 10,
   "source": [
    "# Create a function to filter ESG data by location\r\n",
    "def location_filter(location_name):\r\n",
    "    new_df = esg_df[esg_df['Country Name']==f'{location_name}']\r\n",
    "    return(new_df)"
   ],
   "outputs": [],
   "metadata": {}
  },
  {
   "cell_type": "code",
   "execution_count": 11,
   "source": [
    "australia_df=[]\r\n",
    "caribbean_small_sts_df = []\r\n",
    "central_african_republic_df = []\r\n",
    "central_europe_baltics_df = []\r\n",
    "east_asia_pacific_df = []\r\n",
    "europe_central_asia_df = []\r\n",
    "latin_america_caribbean_df = []\r\n",
    "middle_east_north_africa_df = []\r\n",
    "north_america_df = []\r\n",
    "sub_saharan_africa_df = []\r\n",
    "world_df = []\r\n",
    "\r\n",
    "australia_df = location_filter('Australia')\r\n",
    "caribbean_small_sts_df = location_filter('Caribbean small states')\r\n",
    "central_african_republic_df = location_filter('Central African Republic')\r\n",
    "central_europe_baltics_df = location_filter('Central Europe and the Baltics')\r\n",
    "east_asia_pacific_df = location_filter('East Asia & Pacific')\r\n",
    "europe_central_asia_df = location_filter('Europe Central Asia')\r\n",
    "latin_america_caribbean_df = location_filter('Latin America & Caribbean')\r\n",
    "middle_east_north_africa_df = location_filter('Middle East & North Africa')\r\n",
    "north_america_df = location_filter('North America')\r\n",
    "sub_saharan_africa_df = location_filter('Sub-Saharan Africa')\r\n",
    "world_df = location_filter('World')\r\n"
   ],
   "outputs": [],
   "metadata": {}
  },
  {
   "cell_type": "markdown",
   "source": [
    "## Australia Analysis"
   ],
   "metadata": {}
  },
  {
   "cell_type": "code",
   "execution_count": 12,
   "source": [
    "#Separate the features (X) from the Target (Y)\r\n",
    "\r\n",
    "#Separate the features (X) from the Target (Y)\r\n",
    "australia_y = australia_df['CO2 emissions (metric tons per capita)']\r\n",
    "australia_X = australia_df.drop(['CO2 emissions (metric tons per capita)', 'Country Name'], axis = 1)\r\n",
    "\r\n",
    "\r\n"
   ],
   "outputs": [],
   "metadata": {}
  },
  {
   "cell_type": "code",
   "execution_count": 13,
   "source": [
    "#Split our data into training and testing\r\n",
    "from sklearn.model_selection import train_test_split\r\n",
    "australia_X_train, australia_X_test, australia_y_train, australia_y_test = train_test_split(australia_X,\r\n",
    "                                                    australia_y,\r\n",
    "                                                    test_size = 0.25,\r\n",
    "                                                    random_state = 42)\r\n",
    "print(australia_X_train.shape, australia_X_test.shape, australia_y_train.shape, australia_y_test.shape)"
   ],
   "outputs": [
    {
     "output_type": "stream",
     "name": "stdout",
     "text": [
      "(44, 3) (15, 3) (44,) (15,)\n"
     ]
    }
   ],
   "metadata": {}
  },
  {
   "cell_type": "code",
   "execution_count": 14,
   "source": [
    "from sklearn.preprocessing import StandardScaler\r\n",
    "#Initiate StandardScaler Instance. Fit the data and scale the data\r\n",
    "\r\n",
    "scaler = StandardScaler()\r\n",
    "australia_X_scaler = scaler.fit(australia_X_train)\r\n",
    "\r\n",
    "australia_X_train_scaled = australia_X_scaler.transform(australia_X_train)\r\n",
    "australia_X_test_scaled = australia_X_scaler.transform(australia_X_test)\r\n",
    "\r\n",
    "#y_train_scaled = scaler.transform(y_train)\r\n",
    "#y_test_scaled = scaler.transform(y_test)\r\n"
   ],
   "outputs": [],
   "metadata": {}
  },
  {
   "cell_type": "code",
   "execution_count": 15,
   "source": [
    "from sklearn.linear_model import LinearRegression\r\n",
    "# Create a Linear Regression model and fit it to the data\r\n",
    "\r\n",
    "australia_model = LinearRegression()\r\n",
    "australia_model.fit(australia_X_train_scaled, australia_y_train)"
   ],
   "outputs": [
    {
     "output_type": "execute_result",
     "data": {
      "text/plain": [
       "LinearRegression()"
      ]
     },
     "metadata": {},
     "execution_count": 15
    }
   ],
   "metadata": {}
  },
  {
   "cell_type": "code",
   "execution_count": 16,
   "source": [
    "# Make predictions using the Scaled Testing Data\r\n",
    "\r\n",
    "australia_predicted_y_values = australia_model.predict(australia_X_test_scaled)\r\n"
   ],
   "outputs": [],
   "metadata": {}
  },
  {
   "cell_type": "code",
   "execution_count": 17,
   "source": [
    "# Assemble actual y data (Y_test) with predicted y data (from just above) into two columns in a dataframe:\r\n",
    "australia_Results = australia_y_test.to_frame()\r\n",
    "australia_Results[\"Predicted Emissions\"] = australia_predicted_y_values\r\n",
    "australia_Results = australia_Results.sort_index()"
   ],
   "outputs": [],
   "metadata": {}
  },
  {
   "cell_type": "code",
   "execution_count": 18,
   "source": [
    "australia_Results.head()"
   ],
   "outputs": [
    {
     "output_type": "execute_result",
     "data": {
      "text/html": [
       "<div>\n",
       "<style scoped>\n",
       "    .dataframe tbody tr th:only-of-type {\n",
       "        vertical-align: middle;\n",
       "    }\n",
       "\n",
       "    .dataframe tbody tr th {\n",
       "        vertical-align: top;\n",
       "    }\n",
       "\n",
       "    .dataframe thead th {\n",
       "        text-align: right;\n",
       "    }\n",
       "</style>\n",
       "<table border=\"1\" class=\"dataframe\">\n",
       "  <thead>\n",
       "    <tr style=\"text-align: right;\">\n",
       "      <th></th>\n",
       "      <th>CO2 emissions (metric tons per capita)</th>\n",
       "      <th>Predicted Emissions</th>\n",
       "    </tr>\n",
       "    <tr>\n",
       "      <th>Year</th>\n",
       "      <th></th>\n",
       "      <th></th>\n",
       "    </tr>\n",
       "  </thead>\n",
       "  <tbody>\n",
       "    <tr>\n",
       "      <th>1960</th>\n",
       "      <td>8.582937</td>\n",
       "      <td>9.170435</td>\n",
       "    </tr>\n",
       "    <tr>\n",
       "      <th>1963</th>\n",
       "      <td>9.226440</td>\n",
       "      <td>9.435020</td>\n",
       "    </tr>\n",
       "    <tr>\n",
       "      <th>1965</th>\n",
       "      <td>10.622321</td>\n",
       "      <td>9.946754</td>\n",
       "    </tr>\n",
       "    <tr>\n",
       "      <th>1968</th>\n",
       "      <td>11.210168</td>\n",
       "      <td>10.664943</td>\n",
       "    </tr>\n",
       "    <tr>\n",
       "      <th>1972</th>\n",
       "      <td>11.951632</td>\n",
       "      <td>11.554472</td>\n",
       "    </tr>\n",
       "  </tbody>\n",
       "</table>\n",
       "</div>"
      ],
      "text/plain": [
       "      CO2 emissions (metric tons per capita)  Predicted Emissions\n",
       "Year                                                             \n",
       "1960                                8.582937             9.170435\n",
       "1963                                9.226440             9.435020\n",
       "1965                               10.622321             9.946754\n",
       "1968                               11.210168            10.664943\n",
       "1972                               11.951632            11.554472"
      ]
     },
     "metadata": {},
     "execution_count": 18
    }
   ],
   "metadata": {}
  },
  {
   "cell_type": "code",
   "execution_count": 19,
   "source": [
    "# Plot the Results\r\n",
    "australia_Results.plot()"
   ],
   "outputs": [
    {
     "output_type": "execute_result",
     "data": {
      "text/plain": [
       "<matplotlib.axes._subplots.AxesSubplot at 0x1b87f8d6550>"
      ]
     },
     "metadata": {},
     "execution_count": 19
    },
    {
     "output_type": "display_data",
     "data": {
      "image/png": "[encoded data removed]",
      "text/plain": [
       "<Figure size 432x288 with 1 Axes>"
      ]
     },
     "metadata": {
      "needs_background": "light"
     }
    }
   ],
   "metadata": {}
  },
  {
   "cell_type": "code",
   "execution_count": 20,
   "source": [
    "from sklearn.metrics import mean_squared_error, r2_score\r\n",
    "# Calculate the mean_squared_error (MSE) on actual versus predicted test \"y\" \r\n",
    "\r\n",
    "australia_mse = mean_squared_error(\r\n",
    "    australia_Results[\"CO2 emissions (metric tons per capita)\"],\r\n",
    "    australia_Results[\"Predicted Emissions\"]\r\n",
    ")\r\n",
    "\r\n",
    "# Using that mean-squared-error, calculate the root-mean-squared error (RMSE):\r\n",
    "australia_rmse = np.sqrt(australia_mse)\r\n",
    "print(f\"Australia Out-of-Sample Root Mean Squared Error (RMSE): {australia_rmse}\")"
   ],
   "outputs": [
    {
     "output_type": "stream",
     "name": "stdout",
     "text": [
      "Australia Out-of-Sample Root Mean Squared Error (RMSE): 0.4423292660859765\n"
     ]
    }
   ],
   "metadata": {}
  },
  {
   "cell_type": "code",
   "execution_count": 21,
   "source": [
    "# Construct a dataframe using just the \"y\" training data:\r\n",
    "australia_in_sample_results = australia_y_train.to_frame()\r\n",
    "\r\n",
    "# Add a column of \"in-sample\" predictions to that DataFrame:  \r\n",
    "australia_in_sample_results[\"In-sample Predictions\"] = australia_model.predict(australia_X_train_scaled)\r\n",
    "\r\n",
    "# Calculate in-sample mean_squared_error (for comparison to out-of-sample)\r\n",
    "australia_in_sample_mse = mean_squared_error(\r\n",
    "    australia_in_sample_results[\"CO2 emissions (metric tons per capita)\"],\r\n",
    "    australia_in_sample_results[\"In-sample Predictions\"]\r\n",
    ")\r\n",
    "\r\n",
    "# Calculate in-sample root mean_squared_error (for comparison to out-of-sample)\r\n",
    "australia_in_sample_rmse = np.sqrt(australia_in_sample_mse)\r\n",
    "print(f\"Australia In-sample Root Mean Squared Error (RMSE): {australia_in_sample_rmse}\")"
   ],
   "outputs": [
    {
     "output_type": "stream",
     "name": "stdout",
     "text": [
      "Australia In-sample Root Mean Squared Error (RMSE): 0.6002202472627489\n"
     ]
    }
   ],
   "metadata": {}
  },
  {
   "cell_type": "markdown",
   "source": [
    "## Caribbean Small States Analysis"
   ],
   "metadata": {}
  },
  {
   "cell_type": "code",
   "execution_count": 22,
   "source": [
    "#Separate the features (X) from the Target (Y)\r\n",
    "\r\n",
    "#Separate the features (X) from the Target (Y)\r\n",
    "caribbean_small_sts_y = caribbean_small_sts_df['CO2 emissions (metric tons per capita)']\r\n",
    "caribbean_small_sts_X = caribbean_small_sts_df.drop(['CO2 emissions (metric tons per capita)', 'Country Name'], axis = 1)\r\n",
    "\r\n",
    "\r\n"
   ],
   "outputs": [],
   "metadata": {}
  },
  {
   "cell_type": "code",
   "execution_count": 23,
   "source": [
    "#Split our data into training and testing\r\n",
    "from sklearn.model_selection import train_test_split\r\n",
    "caribbean_small_sts_X_train, caribbean_small_sts_X_test, caribbean_small_sts_y_train, caribbean_small_sts_y_test = train_test_split(caribbean_small_sts_X,\r\n",
    "                                                    caribbean_small_sts_y,\r\n",
    "                                                    test_size = 0.25,\r\n",
    "                                                    random_state = 42)\r\n",
    "print(caribbean_small_sts_X_train.shape, caribbean_small_sts_X_test.shape, caribbean_small_sts_y_train.shape, caribbean_small_sts_y_test.shape)"
   ],
   "outputs": [
    {
     "output_type": "stream",
     "name": "stdout",
     "text": [
      "(44, 3) (15, 3) (44,) (15,)\n"
     ]
    }
   ],
   "metadata": {}
  },
  {
   "cell_type": "code",
   "execution_count": 24,
   "source": [
    "from sklearn.preprocessing import StandardScaler\r\n",
    "#Initiate StandardScaler Instance. Fit the data and scale the data\r\n",
    "\r\n",
    "scaler = StandardScaler()\r\n",
    "caribbean_small_sts_X_scaler = scaler.fit(caribbean_small_sts_X_train)\r\n",
    "\r\n",
    "caribbean_small_sts_X_train_scaled = caribbean_small_sts_X_scaler.transform(caribbean_small_sts_X_train)\r\n",
    "caribbean_small_sts_X_test_scaled = caribbean_small_sts_X_scaler.transform(caribbean_small_sts_X_test)\r\n",
    "\r\n",
    "#y_train_scaled = scaler.transform(y_train)\r\n",
    "#y_test_scaled = scaler.transform(y_test)"
   ],
   "outputs": [],
   "metadata": {}
  },
  {
   "cell_type": "code",
   "execution_count": 25,
   "source": [
    "from sklearn.linear_model import LinearRegression\r\n",
    "# Create a Linear Regression model and fit it to the data\r\n",
    "\r\n",
    "caribbean_small_sts_model = LinearRegression()\r\n",
    "caribbean_small_sts_model.fit(caribbean_small_sts_X_train_scaled, caribbean_small_sts_y_train)"
   ],
   "outputs": [
    {
     "output_type": "execute_result",
     "data": {
      "text/plain": [
       "LinearRegression()"
      ]
     },
     "metadata": {},
     "execution_count": 25
    }
   ],
   "metadata": {}
  },
  {
   "cell_type": "code",
   "execution_count": 26,
   "source": [
    "# Make predictions using the Scaled Testing Data\r\n",
    "\r\n",
    "caribbean_small_sts_predicted_y_values = caribbean_small_sts_model.predict(caribbean_small_sts_X_test_scaled)"
   ],
   "outputs": [],
   "metadata": {}
  },
  {
   "cell_type": "code",
   "execution_count": 27,
   "source": [
    "# Assemble actual y data (Y_test) with predicted y data (from just above) into two columns in a dataframe:\r\n",
    "caribbean_small_sts_Results = caribbean_small_sts_y_test.to_frame()\r\n",
    "caribbean_small_sts_Results[\"Predicted Emissions\"] = caribbean_small_sts_predicted_y_values\r\n",
    "caribbean_small_sts_Results = caribbean_small_sts_Results.sort_index()"
   ],
   "outputs": [],
   "metadata": {}
  },
  {
   "cell_type": "code",
   "execution_count": 28,
   "source": [
    "caribbean_small_sts_Results.head()"
   ],
   "outputs": [
    {
     "output_type": "execute_result",
     "data": {
      "text/html": [
       "<div>\n",
       "<style scoped>\n",
       "    .dataframe tbody tr th:only-of-type {\n",
       "        vertical-align: middle;\n",
       "    }\n",
       "\n",
       "    .dataframe tbody tr th {\n",
       "        vertical-align: top;\n",
       "    }\n",
       "\n",
       "    .dataframe thead th {\n",
       "        text-align: right;\n",
       "    }\n",
       "</style>\n",
       "<table border=\"1\" class=\"dataframe\">\n",
       "  <thead>\n",
       "    <tr style=\"text-align: right;\">\n",
       "      <th></th>\n",
       "      <th>CO2 emissions (metric tons per capita)</th>\n",
       "      <th>Predicted Emissions</th>\n",
       "    </tr>\n",
       "    <tr>\n",
       "      <th>Year</th>\n",
       "      <th></th>\n",
       "      <th></th>\n",
       "    </tr>\n",
       "  </thead>\n",
       "  <tbody>\n",
       "    <tr>\n",
       "      <th>1960</th>\n",
       "      <td>1.401336</td>\n",
       "      <td>5.639276</td>\n",
       "    </tr>\n",
       "    <tr>\n",
       "      <th>1963</th>\n",
       "      <td>1.350230</td>\n",
       "      <td>3.299553</td>\n",
       "    </tr>\n",
       "    <tr>\n",
       "      <th>1965</th>\n",
       "      <td>2.601912</td>\n",
       "      <td>2.719553</td>\n",
       "    </tr>\n",
       "    <tr>\n",
       "      <th>1968</th>\n",
       "      <td>2.938123</td>\n",
       "      <td>2.827455</td>\n",
       "    </tr>\n",
       "    <tr>\n",
       "      <th>1972</th>\n",
       "      <td>5.103338</td>\n",
       "      <td>4.012930</td>\n",
       "    </tr>\n",
       "  </tbody>\n",
       "</table>\n",
       "</div>"
      ],
      "text/plain": [
       "      CO2 emissions (metric tons per capita)  Predicted Emissions\n",
       "Year                                                             \n",
       "1960                                1.401336             5.639276\n",
       "1963                                1.350230             3.299553\n",
       "1965                                2.601912             2.719553\n",
       "1968                                2.938123             2.827455\n",
       "1972                                5.103338             4.012930"
      ]
     },
     "metadata": {},
     "execution_count": 28
    }
   ],
   "metadata": {}
  },
  {
   "cell_type": "code",
   "execution_count": 29,
   "source": [
    "caribbean_small_sts_Results.plot()"
   ],
   "outputs": [
    {
     "output_type": "execute_result",
     "data": {
      "text/plain": [
       "<matplotlib.axes._subplots.AxesSubplot at 0x1b87f97ad60>"
      ]
     },
     "metadata": {},
     "execution_count": 29
    },
    {
     "output_type": "display_data",
     "data": {
      "image/png": "[encoded data removed]",
      "text/plain": [
       "<Figure size 432x288 with 1 Axes>"
      ]
     },
     "metadata": {
      "needs_background": "light"
     }
    }
   ],
   "metadata": {}
  },
  {
   "cell_type": "code",
   "execution_count": 30,
   "source": [
    "# Calculate the mean_squared_error (MSE) on actual versus predicted test \"y\" \r\n",
    "caribbean_small_sts_mse = mean_squared_error(\r\n",
    "    caribbean_small_sts_Results[\"CO2 emissions (metric tons per capita)\"],\r\n",
    "    caribbean_small_sts_Results[\"Predicted Emissions\"]\r\n",
    ")\r\n",
    "\r\n",
    "# Using that mean-squared-error, calculate the root-mean-squared error (RMSE):\r\n",
    "caribbean_small_sts_rmse = np.sqrt(caribbean_small_sts_mse)\r\n",
    "print(f\"caribbean_small_sts Out-of-Sample Root Mean Squared Error (RMSE): {caribbean_small_sts_rmse}\")"
   ],
   "outputs": [
    {
     "output_type": "stream",
     "name": "stdout",
     "text": [
      "caribbean_small_sts Out-of-Sample Root Mean Squared Error (RMSE): 1.4529896046971096\n"
     ]
    }
   ],
   "metadata": {}
  },
  {
   "cell_type": "code",
   "execution_count": 31,
   "source": [
    "# Construct a dataframe using just the \"y\" training data:\r\n",
    "caribbean_small_sts_in_sample_results = caribbean_small_sts_y_train.to_frame()\r\n",
    "\r\n",
    "# Add a column of \"in-sample\" predictions to that DataFrame:  \r\n",
    "caribbean_small_sts_in_sample_results[\"In-sample Predictions\"] = caribbean_small_sts_model.predict(caribbean_small_sts_X_train_scaled)\r\n",
    "\r\n",
    "# Calculate in-sample mean_squared_error (for comparison to out-of-sample)\r\n",
    "caribbean_small_sts_in_sample_mse = mean_squared_error(\r\n",
    "    caribbean_small_sts_in_sample_results[\"CO2 emissions (metric tons per capita)\"],\r\n",
    "    caribbean_small_sts_in_sample_results[\"In-sample Predictions\"]\r\n",
    ")\r\n",
    "\r\n",
    "# Calculate in-sample root mean_squared_error (for comparison to out-of-sample)\r\n",
    "caribbean_small_sts_in_sample_rmse = np.sqrt(caribbean_small_sts_in_sample_mse)\r\n",
    "print(f\"caribbean_small_sts In-sample Root Mean Squared Error (RMSE): {caribbean_small_sts_in_sample_rmse}\")"
   ],
   "outputs": [
    {
     "output_type": "stream",
     "name": "stdout",
     "text": [
      "caribbean_small_sts In-sample Root Mean Squared Error (RMSE): 0.7984388188730399\n"
     ]
    }
   ],
   "metadata": {}
  },
  {
   "cell_type": "markdown",
   "source": [
    "## Central African Republic Analysis"
   ],
   "metadata": {}
  },
  {
   "cell_type": "code",
   "execution_count": 32,
   "source": [
    "#Separate the features (X) from the Target (Y)\r\n",
    "central_african_republic_y = central_african_republic_df['CO2 emissions (metric tons per capita)']\r\n",
    "central_african_republic_X = central_african_republic_df.drop(['CO2 emissions (metric tons per capita)', 'Country Name'], axis = 1)\r\n",
    "\r\n"
   ],
   "outputs": [],
   "metadata": {}
  },
  {
   "cell_type": "code",
   "execution_count": 33,
   "source": [
    "#Split our data into training and testing\r\n",
    "\r\n",
    "central_african_republic_X_train, central_african_republic_X_test, central_african_republic_y_train, central_african_republic_y_test = train_test_split(central_african_republic_X,\r\n",
    "                                                    central_african_republic_y,\r\n",
    "                                                    test_size = 0.25,\r\n",
    "                                                    random_state = 42)\r\n",
    "print(central_african_republic_X_train.shape, central_african_republic_X_test.shape, central_african_republic_y_train.shape, central_african_republic_y_test.shape)"
   ],
   "outputs": [
    {
     "output_type": "stream",
     "name": "stdout",
     "text": [
      "(44, 3) (15, 3) (44,) (15,)\n"
     ]
    }
   ],
   "metadata": {}
  },
  {
   "cell_type": "code",
   "execution_count": 34,
   "source": [
    "\r\n",
    "#Fit the data and scale the data\r\n",
    "\r\n",
    "scaler = StandardScaler()\r\n",
    "central_african_republic_X_scaler = scaler.fit(central_african_republic_X_train)\r\n",
    "\r\n",
    "central_african_republic_X_train_scaled = central_african_republic_X_scaler.transform(central_african_republic_X_train)\r\n",
    "central_african_republic_X_test_scaled = central_african_republic_X_scaler.transform(central_african_republic_X_test)\r\n",
    "\r\n",
    "#y_train_scaled = scaler.transform(y_train)\r\n",
    "#y_test_scaled = scaler.transform(y_test)\r\n",
    "\r\n"
   ],
   "outputs": [],
   "metadata": {}
  },
  {
   "cell_type": "code",
   "execution_count": 35,
   "source": [
    "# Create a Linear Regression model and fit it to the data\r\n",
    "\r\n",
    "central_african_republic_model = LinearRegression()\r\n",
    "central_african_republic_model.fit(central_african_republic_X_train_scaled, central_african_republic_y_train)\r\n",
    "\r\n"
   ],
   "outputs": [
    {
     "output_type": "execute_result",
     "data": {
      "text/plain": [
       "LinearRegression()"
      ]
     },
     "metadata": {},
     "execution_count": 35
    }
   ],
   "metadata": {}
  },
  {
   "cell_type": "code",
   "execution_count": 36,
   "source": [
    "# Make predictions using the Scaled Testing Data\r\n",
    "\r\n",
    "central_african_republic_predicted_y_values = central_african_republic_model.predict(central_african_republic_X_test_scaled)\r\n",
    "\r\n"
   ],
   "outputs": [],
   "metadata": {}
  },
  {
   "cell_type": "code",
   "execution_count": 37,
   "source": [
    "# Assemble actual y data (Y_test) with predicted y data (from just above) into two columns in a dataframe:\r\n",
    "central_african_republic_Results = central_african_republic_y_test.to_frame()\r\n",
    "central_african_republic_Results[\"Predicted Emissions\"] = central_african_republic_predicted_y_values\r\n",
    "central_african_republic_Results = central_african_republic_Results.sort_index()\r\n",
    "\r\n",
    "central_african_republic_Results.head()\r\n",
    "\r\n"
   ],
   "outputs": [
    {
     "output_type": "execute_result",
     "data": {
      "text/html": [
       "<div>\n",
       "<style scoped>\n",
       "    .dataframe tbody tr th:only-of-type {\n",
       "        vertical-align: middle;\n",
       "    }\n",
       "\n",
       "    .dataframe tbody tr th {\n",
       "        vertical-align: top;\n",
       "    }\n",
       "\n",
       "    .dataframe thead th {\n",
       "        text-align: right;\n",
       "    }\n",
       "</style>\n",
       "<table border=\"1\" class=\"dataframe\">\n",
       "  <thead>\n",
       "    <tr style=\"text-align: right;\">\n",
       "      <th></th>\n",
       "      <th>CO2 emissions (metric tons per capita)</th>\n",
       "      <th>Predicted Emissions</th>\n",
       "    </tr>\n",
       "    <tr>\n",
       "      <th>Year</th>\n",
       "      <th></th>\n",
       "      <th></th>\n",
       "    </tr>\n",
       "  </thead>\n",
       "  <tbody>\n",
       "    <tr>\n",
       "      <th>1960</th>\n",
       "      <td>0.058607</td>\n",
       "      <td>0.060379</td>\n",
       "    </tr>\n",
       "    <tr>\n",
       "      <th>1963</th>\n",
       "      <td>0.046436</td>\n",
       "      <td>0.061577</td>\n",
       "    </tr>\n",
       "    <tr>\n",
       "      <th>1965</th>\n",
       "      <td>0.053673</td>\n",
       "      <td>0.062442</td>\n",
       "    </tr>\n",
       "    <tr>\n",
       "      <th>1968</th>\n",
       "      <td>0.105120</td>\n",
       "      <td>0.063471</td>\n",
       "    </tr>\n",
       "    <tr>\n",
       "      <th>1972</th>\n",
       "      <td>0.090311</td>\n",
       "      <td>0.064647</td>\n",
       "    </tr>\n",
       "  </tbody>\n",
       "</table>\n",
       "</div>"
      ],
      "text/plain": [
       "      CO2 emissions (metric tons per capita)  Predicted Emissions\n",
       "Year                                                             \n",
       "1960                                0.058607             0.060379\n",
       "1963                                0.046436             0.061577\n",
       "1965                                0.053673             0.062442\n",
       "1968                                0.105120             0.063471\n",
       "1972                                0.090311             0.064647"
      ]
     },
     "metadata": {},
     "execution_count": 37
    }
   ],
   "metadata": {}
  },
  {
   "cell_type": "code",
   "execution_count": 38,
   "source": [
    "# Plot the results\r\n",
    "central_african_republic_Results.plot()\r\n",
    "\r\n"
   ],
   "outputs": [
    {
     "output_type": "execute_result",
     "data": {
      "text/plain": [
       "<matplotlib.axes._subplots.AxesSubplot at 0x1b87fa5bcd0>"
      ]
     },
     "metadata": {},
     "execution_count": 38
    },
    {
     "output_type": "display_data",
     "data": {
      "image/png": "[encoded data removed]",
      "text/plain": [
       "<Figure size 432x288 with 1 Axes>"
      ]
     },
     "metadata": {
      "needs_background": "light"
     }
    }
   ],
   "metadata": {}
  },
  {
   "cell_type": "code",
   "execution_count": 39,
   "source": [
    "# Calculate the mean_squared_error (MSE) on actual versus predicted test \"y\" \r\n",
    "central_african_republic_mse = mean_squared_error(\r\n",
    "    central_african_republic_Results[\"CO2 emissions (metric tons per capita)\"],\r\n",
    "    central_african_republic_Results[\"Predicted Emissions\"]\r\n",
    ")\r\n",
    "\r\n",
    "# Using that mean-squared-error, calculate the root-mean-squared error (RMSE):\r\n",
    "central_african_republic_rmse = np.sqrt(central_african_republic_mse)\r\n",
    "print(f\"central_african_republic Out-of-Sample Root Mean Squared Error (RMSE): {central_african_republic_rmse}\")\r\n",
    "\r\n"
   ],
   "outputs": [
    {
     "output_type": "stream",
     "name": "stdout",
     "text": [
      "central_african_republic Out-of-Sample Root Mean Squared Error (RMSE): 0.016101802569023906\n"
     ]
    }
   ],
   "metadata": {}
  },
  {
   "cell_type": "code",
   "execution_count": 40,
   "source": [
    "# Construct a dataframe using just the \"y\" training data:\r\n",
    "central_african_republic_in_sample_results = central_african_republic_y_train.to_frame()\r\n",
    "\r\n",
    "# Add a column of \"in-sample\" predictions to that DataFrame:  \r\n",
    "central_african_republic_in_sample_results[\"In-sample Predictions\"] = central_african_republic_model.predict(central_african_republic_X_train_scaled)\r\n",
    "\r\n",
    "# Calculate in-sample mean_squared_error (for comparison to out-of-sample)\r\n",
    "central_african_republic_in_sample_mse = mean_squared_error(\r\n",
    "    central_african_republic_in_sample_results[\"CO2 emissions (metric tons per capita)\"],\r\n",
    "    central_african_republic_in_sample_results[\"In-sample Predictions\"]\r\n",
    ")\r\n",
    "\r\n",
    "# Calculate in-sample root mean_squared_error (for comparison to out-of-sample)\r\n",
    "central_african_republic_in_sample_rmse = np.sqrt(central_african_republic_in_sample_mse)\r\n",
    "print(f\"central_african_republic In-sample Root Mean Squared Error (RMSE): {central_african_republic_in_sample_rmse}\")"
   ],
   "outputs": [
    {
     "output_type": "stream",
     "name": "stdout",
     "text": [
      "central_african_republic In-sample Root Mean Squared Error (RMSE): 0.01537821963285854\n"
     ]
    }
   ],
   "metadata": {}
  },
  {
   "cell_type": "markdown",
   "source": [
    "## Central Europe Baltics Analysis"
   ],
   "metadata": {}
  },
  {
   "cell_type": "code",
   "execution_count": 41,
   "source": [
    "#Separate the features (X) from the Target (Y)\r\n",
    "central_europe_baltics_y = central_europe_baltics_df['CO2 emissions (metric tons per capita)']\r\n",
    "central_europe_baltics_X = central_europe_baltics_df.drop(['CO2 emissions (metric tons per capita)', 'Country Name'], axis = 1)"
   ],
   "outputs": [],
   "metadata": {}
  },
  {
   "cell_type": "code",
   "execution_count": 42,
   "source": [
    "#Split our data into training and testing\r\n",
    "\r\n",
    "central_europe_baltics_X_train, central_europe_baltics_X_test, central_europe_baltics_y_train, central_europe_baltics_y_test = train_test_split(central_europe_baltics_X,\r\n",
    "                                                    central_europe_baltics_y,\r\n",
    "                                                    test_size = 0.25,\r\n",
    "                                                    random_state = 42)\r\n",
    "print(central_europe_baltics_X_train.shape, central_europe_baltics_X_test.shape, central_europe_baltics_y_train.shape, central_europe_baltics_y_test.shape)"
   ],
   "outputs": [
    {
     "output_type": "stream",
     "name": "stdout",
     "text": [
      "(44, 3) (15, 3) (44,) (15,)\n"
     ]
    }
   ],
   "metadata": {}
  },
  {
   "cell_type": "code",
   "execution_count": 43,
   "source": [
    "#Fit the data and scale the data\r\n",
    "\r\n",
    "scaler = StandardScaler()\r\n",
    "central_europe_baltics_X_scaler = scaler.fit(central_europe_baltics_X_train)\r\n",
    "\r\n",
    "central_europe_baltics_X_train_scaled = central_europe_baltics_X_scaler.transform(central_europe_baltics_X_train)\r\n",
    "central_europe_baltics_X_test_scaled = central_europe_baltics_X_scaler.transform(central_europe_baltics_X_test)"
   ],
   "outputs": [],
   "metadata": {}
  },
  {
   "cell_type": "code",
   "execution_count": 44,
   "source": [
    "# Create a Linear Regression model and fit it to the data\r\n",
    "\r\n",
    "central_europe_baltics_model = LinearRegression()\r\n",
    "central_europe_baltics_model.fit(central_europe_baltics_X_train_scaled, central_europe_baltics_y_train)"
   ],
   "outputs": [
    {
     "output_type": "execute_result",
     "data": {
      "text/plain": [
       "LinearRegression()"
      ]
     },
     "metadata": {},
     "execution_count": 44
    }
   ],
   "metadata": {}
  },
  {
   "cell_type": "code",
   "execution_count": 45,
   "source": [
    "# Make predictions using the Scaled Testing Data\r\n",
    "\r\n",
    "central_europe_baltics_predicted_y_values = central_europe_baltics_model.predict(central_europe_baltics_X_test_scaled)\r\n"
   ],
   "outputs": [],
   "metadata": {}
  },
  {
   "cell_type": "code",
   "execution_count": 46,
   "source": [
    "# Assemble actual y data (Y_test) with predicted y data (from just above) into two columns in a dataframe:\r\n",
    "central_europe_baltics_Results = central_europe_baltics_y_test.to_frame()\r\n",
    "central_europe_baltics_Results[\"Predicted Emissions\"] = central_europe_baltics_predicted_y_values\r\n",
    "central_europe_baltics_Results = central_europe_baltics_Results.sort_index()"
   ],
   "outputs": [],
   "metadata": {}
  },
  {
   "cell_type": "code",
   "execution_count": 47,
   "source": [
    "# Plot the results\r\n",
    "central_europe_baltics_Results.plot()"
   ],
   "outputs": [
    {
     "output_type": "execute_result",
     "data": {
      "text/plain": [
       "<matplotlib.axes._subplots.AxesSubplot at 0x1b87fac3880>"
      ]
     },
     "metadata": {},
     "execution_count": 47
    },
    {
     "output_type": "display_data",
     "data": {
      "image/png": "[encoded data removed]",
      "text/plain": [
       "<Figure size 432x288 with 1 Axes>"
      ]
     },
     "metadata": {
      "needs_background": "light"
     }
    }
   ],
   "metadata": {}
  },
  {
   "cell_type": "code",
   "execution_count": 48,
   "source": [
    "# Calculate the mean_squared_error (MSE) on actual versus predicted test \"y\" \r\n",
    "central_europe_baltics_mse = mean_squared_error(\r\n",
    "    central_europe_baltics_Results[\"CO2 emissions (metric tons per capita)\"],\r\n",
    "    central_europe_baltics_Results[\"Predicted Emissions\"]\r\n",
    ")\r\n",
    "\r\n",
    "# Using that mean-squared-error, calculate the root-mean-squared error (RMSE):\r\n",
    "central_europe_baltics_rmse = np.sqrt(central_europe_baltics_mse)\r\n",
    "print(f\"central_europe_baltics Out-of-Sample Root Mean Squared Error (RMSE): {central_europe_baltics_rmse}\")"
   ],
   "outputs": [
    {
     "output_type": "stream",
     "name": "stdout",
     "text": [
      "central_europe_baltics Out-of-Sample Root Mean Squared Error (RMSE): 1.5173883114458235\n"
     ]
    }
   ],
   "metadata": {}
  },
  {
   "cell_type": "code",
   "execution_count": 49,
   "source": [
    "# Construct a dataframe using just the \"y\" training data:\r\n",
    "central_europe_baltics_in_sample_results = central_europe_baltics_y_train.to_frame()\r\n",
    "\r\n",
    "# Add a column of \"in-sample\" predictions to that DataFrame:  \r\n",
    "central_europe_baltics_in_sample_results[\"In-sample Predictions\"] = central_europe_baltics_model.predict(central_europe_baltics_X_train_scaled)\r\n",
    "\r\n",
    "# Calculate in-sample mean_squared_error (for comparison to out-of-sample)\r\n",
    "central_europe_baltics_in_sample_mse = mean_squared_error(\r\n",
    "    central_europe_baltics_in_sample_results[\"CO2 emissions (metric tons per capita)\"],\r\n",
    "    central_europe_baltics_in_sample_results[\"In-sample Predictions\"]\r\n",
    ")\r\n",
    "\r\n",
    "# Calculate in-sample root mean_squared_error (for comparison to out-of-sample)\r\n",
    "central_europe_baltics_in_sample_rmse = np.sqrt(central_europe_baltics_in_sample_mse)\r\n",
    "print(f\"central_europe_baltics In-sample Root Mean Squared Error (RMSE): {central_europe_baltics_in_sample_rmse}\")"
   ],
   "outputs": [
    {
     "output_type": "stream",
     "name": "stdout",
     "text": [
      "central_europe_baltics In-sample Root Mean Squared Error (RMSE): 1.3952788154742561\n"
     ]
    }
   ],
   "metadata": {}
  },
  {
   "cell_type": "markdown",
   "source": [
    "## East Asia Pacific Analysis"
   ],
   "metadata": {}
  },
  {
   "cell_type": "code",
   "execution_count": 50,
   "source": [
    "#Separate the features (X) from the Target (Y)\r\n",
    "east_asia_pacific_y = east_asia_pacific_df['CO2 emissions (metric tons per capita)']\r\n",
    "east_asia_pacific_X = east_asia_pacific_df.drop(['CO2 emissions (metric tons per capita)', 'Country Name'], axis = 1)"
   ],
   "outputs": [],
   "metadata": {}
  },
  {
   "cell_type": "code",
   "execution_count": 51,
   "source": [
    "#Split our data into training and testing\r\n",
    "\r\n",
    "east_asia_pacific_X_train, east_asia_pacific_X_test, east_asia_pacific_y_train, east_asia_pacific_y_test = train_test_split(east_asia_pacific_X,\r\n",
    "                                                    east_asia_pacific_y,\r\n",
    "                                                    test_size = 0.25,\r\n",
    "                                                    random_state = 42)\r\n",
    "print(east_asia_pacific_X_train.shape, east_asia_pacific_X_test.shape, east_asia_pacific_y_train.shape, east_asia_pacific_y_test.shape)"
   ],
   "outputs": [
    {
     "output_type": "stream",
     "name": "stdout",
     "text": [
      "(44, 3) (15, 3) (44,) (15,)\n"
     ]
    }
   ],
   "metadata": {}
  },
  {
   "cell_type": "code",
   "execution_count": 52,
   "source": [
    "#Fit the data and scale the data\r\n",
    "\r\n",
    "scaler = StandardScaler()\r\n",
    "east_asia_pacific_X_scaler = scaler.fit(east_asia_pacific_X_train)\r\n",
    "\r\n",
    "east_asia_pacific_X_train_scaled = east_asia_pacific_X_scaler.transform(east_asia_pacific_X_train)\r\n",
    "east_asia_pacific_X_test_scaled = east_asia_pacific_X_scaler.transform(east_asia_pacific_X_test)"
   ],
   "outputs": [],
   "metadata": {}
  },
  {
   "cell_type": "code",
   "execution_count": 53,
   "source": [
    "# Create a Linear Regression model and fit it to the data\r\n",
    "\r\n",
    "east_asia_pacific_model = LinearRegression()\r\n",
    "east_asia_pacific_model.fit(east_asia_pacific_X_train_scaled, east_asia_pacific_y_train)"
   ],
   "outputs": [
    {
     "output_type": "execute_result",
     "data": {
      "text/plain": [
       "LinearRegression()"
      ]
     },
     "metadata": {},
     "execution_count": 53
    }
   ],
   "metadata": {}
  },
  {
   "cell_type": "code",
   "execution_count": 54,
   "source": [
    "# Make predictions using the Scaled Testing Data\r\n",
    "\r\n",
    "east_asia_pacific_predicted_y_values = east_asia_pacific_model.predict(east_asia_pacific_X_test_scaled)"
   ],
   "outputs": [],
   "metadata": {}
  },
  {
   "cell_type": "code",
   "execution_count": 55,
   "source": [
    "# Assemble actual y data (Y_test) with predicted y data (from just above) into two columns in a dataframe:\r\n",
    "east_asia_pacific_Results = east_asia_pacific_y_test.to_frame()\r\n",
    "east_asia_pacific_Results[\"Predicted Emissions\"] = east_asia_pacific_predicted_y_values\r\n",
    "east_asia_pacific_Results = east_asia_pacific_Results.sort_index()"
   ],
   "outputs": [],
   "metadata": {}
  },
  {
   "cell_type": "code",
   "execution_count": 56,
   "source": [
    "# Plot the results\r\n",
    "east_asia_pacific_Results.plot()"
   ],
   "outputs": [
    {
     "output_type": "execute_result",
     "data": {
      "text/plain": [
       "<matplotlib.axes._subplots.AxesSubplot at 0x1b87fb316d0>"
      ]
     },
     "metadata": {},
     "execution_count": 56
    },
    {
     "output_type": "display_data",
     "data": {
      "image/png": "[encoded data removed]",
      "text/plain": [
       "<Figure size 432x288 with 1 Axes>"
      ]
     },
     "metadata": {
      "needs_background": "light"
     }
    }
   ],
   "metadata": {}
  },
  {
   "cell_type": "code",
   "execution_count": 57,
   "source": [
    "# Calculate the mean_squared_error (MSE) on actual versus predicted test \"y\" \r\n",
    "east_asia_pacific_mse = mean_squared_error(\r\n",
    "    east_asia_pacific_Results[\"CO2 emissions (metric tons per capita)\"],\r\n",
    "    east_asia_pacific_Results[\"Predicted Emissions\"]\r\n",
    ")\r\n",
    "\r\n",
    "# Using that mean-squared-error, calculate the root-mean-squared error (RMSE):\r\n",
    "east_asia_pacific_rmse = np.sqrt(east_asia_pacific_mse)\r\n",
    "print(f\"east_asia_pacific Out-of-Sample Root Mean Squared Error (RMSE): {east_asia_pacific_rmse}\")"
   ],
   "outputs": [
    {
     "output_type": "stream",
     "name": "stdout",
     "text": [
      "east_asia_pacific Out-of-Sample Root Mean Squared Error (RMSE): 0.33699275885100266\n"
     ]
    }
   ],
   "metadata": {}
  },
  {
   "cell_type": "code",
   "execution_count": 58,
   "source": [
    "# Construct a dataframe using just the \"y\" training data:\r\n",
    "east_asia_pacific_in_sample_results = east_asia_pacific_y_train.to_frame()\r\n",
    "\r\n",
    "# Add a column of \"in-sample\" predictions to that DataFrame:  \r\n",
    "east_asia_pacific_in_sample_results[\"In-sample Predictions\"] = east_asia_pacific_model.predict(east_asia_pacific_X_train_scaled)\r\n",
    "\r\n",
    "# Calculate in-sample mean_squared_error (for comparison to out-of-sample)\r\n",
    "east_asia_pacific_in_sample_mse = mean_squared_error(\r\n",
    "    east_asia_pacific_in_sample_results[\"CO2 emissions (metric tons per capita)\"],\r\n",
    "    east_asia_pacific_in_sample_results[\"In-sample Predictions\"]\r\n",
    ")\r\n",
    "\r\n",
    "# Calculate in-sample root mean_squared_error (for comparison to out-of-sample)\r\n",
    "east_asia_pacific_in_sample_rmse = np.sqrt(east_asia_pacific_in_sample_mse)\r\n",
    "print(f\"east_asia_pacific In-sample Root Mean Squared Error (RMSE): {east_asia_pacific_in_sample_rmse}\")"
   ],
   "outputs": [
    {
     "output_type": "stream",
     "name": "stdout",
     "text": [
      "east_asia_pacific In-sample Root Mean Squared Error (RMSE): 0.33777697058824474\n"
     ]
    }
   ],
   "metadata": {}
  },
  {
   "cell_type": "markdown",
   "source": [
    "## Europe Central Asia Analysis (Cannot be performed)"
   ],
   "metadata": {}
  },
  {
   "cell_type": "markdown",
   "source": [
    "## Latin America Caribbean Analysis"
   ],
   "metadata": {}
  },
  {
   "cell_type": "code",
   "execution_count": 59,
   "source": [
    "#Separate the features (X) from the Target (Y)\r\n",
    "latin_america_caribbean_y = latin_america_caribbean_df['CO2 emissions (metric tons per capita)']\r\n",
    "latin_america_caribbean_X = latin_america_caribbean_df.drop(['CO2 emissions (metric tons per capita)', 'Country Name'], axis = 1)"
   ],
   "outputs": [],
   "metadata": {}
  },
  {
   "cell_type": "code",
   "execution_count": 60,
   "source": [
    "#Split our data into training and testing\r\n",
    "\r\n",
    "latin_america_caribbean_X_train, latin_america_caribbean_X_test, latin_america_caribbean_y_train, latin_america_caribbean_y_test = train_test_split(latin_america_caribbean_X,\r\n",
    "                                                    latin_america_caribbean_y,\r\n",
    "                                                    test_size = 0.25,\r\n",
    "                                                    random_state = 42)\r\n",
    "print(latin_america_caribbean_X_train.shape, latin_america_caribbean_X_test.shape, latin_america_caribbean_y_train.shape, latin_america_caribbean_y_test.shape)"
   ],
   "outputs": [
    {
     "output_type": "stream",
     "name": "stdout",
     "text": [
      "(44, 3) (15, 3) (44,) (15,)\n"
     ]
    }
   ],
   "metadata": {}
  },
  {
   "cell_type": "code",
   "execution_count": 61,
   "source": [
    "#Fit the data and scale the data\r\n",
    "\r\n",
    "scaler = StandardScaler()\r\n",
    "latin_america_caribbean_X_scaler = scaler.fit(latin_america_caribbean_X_train)\r\n",
    "\r\n",
    "latin_america_caribbean_X_train_scaled = latin_america_caribbean_X_scaler.transform(latin_america_caribbean_X_train)\r\n",
    "latin_america_caribbean_X_test_scaled = latin_america_caribbean_X_scaler.transform(latin_america_caribbean_X_test)"
   ],
   "outputs": [],
   "metadata": {}
  },
  {
   "cell_type": "code",
   "execution_count": 62,
   "source": [
    "# Create a Linear Regression model and fit it to the data\r\n",
    "\r\n",
    "latin_america_caribbean_model = LinearRegression()\r\n",
    "latin_america_caribbean_model.fit(latin_america_caribbean_X_train_scaled, latin_america_caribbean_y_train)"
   ],
   "outputs": [
    {
     "output_type": "execute_result",
     "data": {
      "text/plain": [
       "LinearRegression()"
      ]
     },
     "metadata": {},
     "execution_count": 62
    }
   ],
   "metadata": {}
  },
  {
   "cell_type": "code",
   "execution_count": 63,
   "source": [
    "# Make predictions using the Scaled Testing Data\r\n",
    "\r\n",
    "latin_america_caribbean_predicted_y_values = latin_america_caribbean_model.predict(latin_america_caribbean_X_test_scaled)"
   ],
   "outputs": [],
   "metadata": {}
  },
  {
   "cell_type": "code",
   "execution_count": 64,
   "source": [
    "# Assemble actual y data (Y_test) with predicted y data (from just above) into two columns in a dataframe:\r\n",
    "latin_america_caribbean_Results = latin_america_caribbean_y_test.to_frame()\r\n",
    "latin_america_caribbean_Results[\"Predicted Emissions\"] = latin_america_caribbean_predicted_y_values\r\n",
    "latin_america_caribbean_Results = latin_america_caribbean_Results.sort_index()"
   ],
   "outputs": [],
   "metadata": {}
  },
  {
   "cell_type": "code",
   "execution_count": 65,
   "source": [
    "# Plot the results\r\n",
    "latin_america_caribbean_Results.plot()"
   ],
   "outputs": [
    {
     "output_type": "execute_result",
     "data": {
      "text/plain": [
       "<matplotlib.axes._subplots.AxesSubplot at 0x1b87fb9b4f0>"
      ]
     },
     "metadata": {},
     "execution_count": 65
    },
    {
     "output_type": "display_data",
     "data": {
      "image/png": "[encoded data removed]",
      "text/plain": [
       "<Figure size 432x288 with 1 Axes>"
      ]
     },
     "metadata": {
      "needs_background": "light"
     }
    }
   ],
   "metadata": {}
  },
  {
   "cell_type": "code",
   "execution_count": 66,
   "source": [
    "# Calculate the mean_squared_error (MSE) on actual versus predicted test \"y\" \r\n",
    "latin_america_caribbean_mse = mean_squared_error(\r\n",
    "    latin_america_caribbean_Results[\"CO2 emissions (metric tons per capita)\"],\r\n",
    "    latin_america_caribbean_Results[\"Predicted Emissions\"]\r\n",
    ")\r\n",
    "\r\n",
    "# Using that mean-squared-error, calculate the root-mean-squared error (RMSE):\r\n",
    "latin_america_caribbean_rmse = np.sqrt(latin_america_caribbean_mse)\r\n",
    "print(f\"latin_america_caribbean Out-of-Sample Root Mean Squared Error (RMSE): {latin_america_caribbean_rmse}\")"
   ],
   "outputs": [
    {
     "output_type": "stream",
     "name": "stdout",
     "text": [
      "latin_america_caribbean Out-of-Sample Root Mean Squared Error (RMSE): 0.1592530970355542\n"
     ]
    }
   ],
   "metadata": {}
  },
  {
   "cell_type": "code",
   "execution_count": 67,
   "source": [
    "# Construct a dataframe using just the \"y\" training data:\r\n",
    "latin_america_caribbean_in_sample_results = latin_america_caribbean_y_train.to_frame()\r\n",
    "\r\n",
    "# Add a column of \"in-sample\" predictions to that DataFrame:  \r\n",
    "latin_america_caribbean_in_sample_results[\"In-sample Predictions\"] = latin_america_caribbean_model.predict(latin_america_caribbean_X_train_scaled)\r\n",
    "\r\n",
    "# Calculate in-sample mean_squared_error (for comparison to out-of-sample)\r\n",
    "latin_america_caribbean_in_sample_mse = mean_squared_error(\r\n",
    "    latin_america_caribbean_in_sample_results[\"CO2 emissions (metric tons per capita)\"],\r\n",
    "    latin_america_caribbean_in_sample_results[\"In-sample Predictions\"]\r\n",
    ")\r\n",
    "\r\n",
    "# Calculate in-sample root mean_squared_error (for comparison to out-of-sample)\r\n",
    "latin_america_caribbean_in_sample_rmse = np.sqrt(latin_america_caribbean_in_sample_mse)\r\n",
    "print(f\"latin_america_caribbean In-sample Root Mean Squared Error (RMSE): {latin_america_caribbean_in_sample_rmse}\")"
   ],
   "outputs": [
    {
     "output_type": "stream",
     "name": "stdout",
     "text": [
      "latin_america_caribbean In-sample Root Mean Squared Error (RMSE): 0.17035597330293073\n"
     ]
    }
   ],
   "metadata": {}
  },
  {
   "cell_type": "markdown",
   "source": [
    "## Middle East North Africa Analysis"
   ],
   "metadata": {}
  },
  {
   "cell_type": "code",
   "execution_count": 68,
   "source": [
    "#Separate the features (X) from the Target (Y)\r\n",
    "middle_east_north_africa_y = middle_east_north_africa_df['CO2 emissions (metric tons per capita)']\r\n",
    "middle_east_north_africa_X = middle_east_north_africa_df.drop(['CO2 emissions (metric tons per capita)', 'Country Name'], axis = 1)"
   ],
   "outputs": [],
   "metadata": {}
  },
  {
   "cell_type": "code",
   "execution_count": 69,
   "source": [
    "#Split our data into training and testing\r\n",
    "\r\n",
    "middle_east_north_africa_X_train, middle_east_north_africa_X_test, middle_east_north_africa_y_train, middle_east_north_africa_y_test = train_test_split(middle_east_north_africa_X,\r\n",
    "                                                    middle_east_north_africa_y,\r\n",
    "                                                    test_size = 0.25,\r\n",
    "                                                    random_state = 42)\r\n",
    "print(middle_east_north_africa_X_train.shape, middle_east_north_africa_X_test.shape, middle_east_north_africa_y_train.shape, middle_east_north_africa_y_test.shape)"
   ],
   "outputs": [
    {
     "output_type": "stream",
     "name": "stdout",
     "text": [
      "(44, 3) (15, 3) (44,) (15,)\n"
     ]
    }
   ],
   "metadata": {}
  },
  {
   "cell_type": "code",
   "execution_count": 70,
   "source": [
    "#Fit the data and scale the data\r\n",
    "\r\n",
    "scaler = StandardScaler()\r\n",
    "middle_east_north_africa_X_scaler = scaler.fit(middle_east_north_africa_X_train)\r\n",
    "\r\n",
    "middle_east_north_africa_X_train_scaled = middle_east_north_africa_X_scaler.transform(middle_east_north_africa_X_train)\r\n",
    "middle_east_north_africa_X_test_scaled = middle_east_north_africa_X_scaler.transform(middle_east_north_africa_X_test)"
   ],
   "outputs": [],
   "metadata": {}
  },
  {
   "cell_type": "code",
   "execution_count": 71,
   "source": [
    "# Create a Linear Regression model and fit it to the data\r\n",
    "\r\n",
    "middle_east_north_africa_model = LinearRegression()\r\n",
    "middle_east_north_africa_model.fit(middle_east_north_africa_X_train_scaled, middle_east_north_africa_y_train)"
   ],
   "outputs": [
    {
     "output_type": "execute_result",
     "data": {
      "text/plain": [
       "LinearRegression()"
      ]
     },
     "metadata": {},
     "execution_count": 71
    }
   ],
   "metadata": {}
  },
  {
   "cell_type": "code",
   "execution_count": 72,
   "source": [
    "# Make predictions using the Scaled Testing Data\r\n",
    "\r\n",
    "middle_east_north_africa_predicted_y_values = middle_east_north_africa_model.predict(middle_east_north_africa_X_test_scaled)"
   ],
   "outputs": [],
   "metadata": {}
  },
  {
   "cell_type": "code",
   "execution_count": 73,
   "source": [
    "# Assemble actual y data (Y_test) with predicted y data (from just above) into two columns in a dataframe:\r\n",
    "middle_east_north_africa_Results = middle_east_north_africa_y_test.to_frame()\r\n",
    "middle_east_north_africa_Results[\"Predicted Emissions\"] = middle_east_north_africa_predicted_y_values\r\n",
    "middle_east_north_africa_Results = middle_east_north_africa_Results.sort_index()"
   ],
   "outputs": [],
   "metadata": {}
  },
  {
   "cell_type": "code",
   "execution_count": 74,
   "source": [
    "# Plot the results\r\n",
    "middle_east_north_africa_Results.plot()"
   ],
   "outputs": [
    {
     "output_type": "execute_result",
     "data": {
      "text/plain": [
       "<matplotlib.axes._subplots.AxesSubplot at 0x1b87fc02700>"
      ]
     },
     "metadata": {},
     "execution_count": 74
    },
    {
     "output_type": "display_data",
     "data": {
      "image/png": "[encoded data removed]",
      "text/plain": [
       "<Figure size 432x288 with 1 Axes>"
      ]
     },
     "metadata": {
      "needs_background": "light"
     }
    }
   ],
   "metadata": {}
  },
  {
   "cell_type": "code",
   "execution_count": 75,
   "source": [
    "# Calculate the mean_squared_error (MSE) on actual versus predicted test \"y\" \r\n",
    "middle_east_north_africa_mse = mean_squared_error(\r\n",
    "    middle_east_north_africa_Results[\"CO2 emissions (metric tons per capita)\"],\r\n",
    "    middle_east_north_africa_Results[\"Predicted Emissions\"]\r\n",
    ")\r\n",
    "\r\n",
    "# Using that mean-squared-error, calculate the root-mean-squared error (RMSE):\r\n",
    "middle_east_north_africa_rmse = np.sqrt(middle_east_north_africa_mse)\r\n",
    "print(f\"middle_east_north_africa Out-of-Sample Root Mean Squared Error (RMSE): {middle_east_north_africa_rmse}\")"
   ],
   "outputs": [
    {
     "output_type": "stream",
     "name": "stdout",
     "text": [
      "middle_east_north_africa Out-of-Sample Root Mean Squared Error (RMSE): 0.28024292777114906\n"
     ]
    }
   ],
   "metadata": {}
  },
  {
   "cell_type": "code",
   "execution_count": 76,
   "source": [
    "# Construct a dataframe using just the \"y\" training data:\r\n",
    "middle_east_north_africa_in_sample_results = middle_east_north_africa_y_train.to_frame()\r\n",
    "\r\n",
    "# Add a column of \"in-sample\" predictions to that DataFrame:  \r\n",
    "middle_east_north_africa_in_sample_results[\"In-sample Predictions\"] = middle_east_north_africa_model.predict(middle_east_north_africa_X_train_scaled)\r\n",
    "\r\n",
    "# Calculate in-sample mean_squared_error (for comparison to out-of-sample)\r\n",
    "middle_east_north_africa_in_sample_mse = mean_squared_error(\r\n",
    "    middle_east_north_africa_in_sample_results[\"CO2 emissions (metric tons per capita)\"],\r\n",
    "    middle_east_north_africa_in_sample_results[\"In-sample Predictions\"]\r\n",
    ")\r\n",
    "\r\n",
    "# Calculate in-sample root mean_squared_error (for comparison to out-of-sample)\r\n",
    "middle_east_north_africa_in_sample_rmse = np.sqrt(middle_east_north_africa_in_sample_mse)\r\n",
    "print(f\"middle_east_north_africa In-sample Root Mean Squared Error (RMSE): {middle_east_north_africa_in_sample_rmse}\")"
   ],
   "outputs": [
    {
     "output_type": "stream",
     "name": "stdout",
     "text": [
      "middle_east_north_africa In-sample Root Mean Squared Error (RMSE): 0.24824331699196778\n"
     ]
    }
   ],
   "metadata": {}
  },
  {
   "cell_type": "markdown",
   "source": [
    "## North America Analysis"
   ],
   "metadata": {}
  },
  {
   "cell_type": "code",
   "execution_count": 77,
   "source": [
    "#Separate the features (X) from the Target (Y)\r\n",
    "north_america_y = north_america_df['CO2 emissions (metric tons per capita)']\r\n",
    "north_america_X = north_america_df.drop(['CO2 emissions (metric tons per capita)', 'Country Name'], axis = 1)"
   ],
   "outputs": [],
   "metadata": {}
  },
  {
   "cell_type": "code",
   "execution_count": 78,
   "source": [
    "#Split our data into training and testing\r\n",
    "\r\n",
    "north_america_X_train, north_america_X_test, north_america_y_train, north_america_y_test = train_test_split(north_america_X,\r\n",
    "                                                    north_america_y,\r\n",
    "                                                    test_size = 0.25,\r\n",
    "                                                    random_state = 42)\r\n",
    "print(north_america_X_train.shape, north_america_X_test.shape, north_america_y_train.shape, north_america_y_test.shape)"
   ],
   "outputs": [
    {
     "output_type": "stream",
     "name": "stdout",
     "text": [
      "(44, 3) (15, 3) (44,) (15,)\n"
     ]
    }
   ],
   "metadata": {}
  },
  {
   "cell_type": "code",
   "execution_count": 79,
   "source": [
    "#Fit the data and scale the data\r\n",
    "\r\n",
    "scaler = StandardScaler()\r\n",
    "north_america_X_scaler = scaler.fit(north_america_X_train)\r\n",
    "\r\n",
    "north_america_X_train_scaled = north_america_X_scaler.transform(north_america_X_train)\r\n",
    "north_america_X_test_scaled = north_america_X_scaler.transform(north_america_X_test)"
   ],
   "outputs": [],
   "metadata": {}
  },
  {
   "cell_type": "code",
   "execution_count": 80,
   "source": [
    "# Create a Linear Regression model and fit it to the data\r\n",
    "\r\n",
    "north_america_model = LinearRegression()\r\n",
    "north_america_model.fit(north_america_X_train_scaled, north_america_y_train)"
   ],
   "outputs": [
    {
     "output_type": "execute_result",
     "data": {
      "text/plain": [
       "LinearRegression()"
      ]
     },
     "metadata": {},
     "execution_count": 80
    }
   ],
   "metadata": {}
  },
  {
   "cell_type": "code",
   "execution_count": 81,
   "source": [
    "# Make predictions using the Scaled Testing Data\r\n",
    "\r\n",
    "north_america_predicted_y_values = north_america_model.predict(north_america_X_test_scaled)"
   ],
   "outputs": [],
   "metadata": {}
  },
  {
   "cell_type": "code",
   "execution_count": 82,
   "source": [
    "# Assemble actual y data (Y_test) with predicted y data (from just above) into two columns in a dataframe:\r\n",
    "north_america_Results = north_america_y_test.to_frame()\r\n",
    "north_america_Results[\"Predicted Emissions\"] = north_america_predicted_y_values\r\n",
    "north_america_Results = north_america_Results.sort_index()"
   ],
   "outputs": [],
   "metadata": {}
  },
  {
   "cell_type": "code",
   "execution_count": 83,
   "source": [
    "# Plot the results\r\n",
    "north_america_Results.plot()"
   ],
   "outputs": [
    {
     "output_type": "execute_result",
     "data": {
      "text/plain": [
       "<matplotlib.axes._subplots.AxesSubplot at 0x1b87fc75580>"
      ]
     },
     "metadata": {},
     "execution_count": 83
    },
    {
     "output_type": "display_data",
     "data": {
      "image/png": "[encoded data removed]",
      "text/plain": [
       "<Figure size 432x288 with 1 Axes>"
      ]
     },
     "metadata": {
      "needs_background": "light"
     }
    }
   ],
   "metadata": {}
  },
  {
   "cell_type": "code",
   "execution_count": 84,
   "source": [
    "# Calculate the mean_squared_error (MSE) on actual versus predicted test \"y\" \r\n",
    "north_america_mse = mean_squared_error(\r\n",
    "    north_america_Results[\"CO2 emissions (metric tons per capita)\"],\r\n",
    "    north_america_Results[\"Predicted Emissions\"]\r\n",
    ")\r\n",
    "\r\n",
    "# Using that mean-squared-error, calculate the root-mean-squared error (RMSE):\r\n",
    "north_america_rmse = np.sqrt(north_america_mse)\r\n",
    "print(f\"north_america Out-of-Sample Root Mean Squared Error (RMSE): {north_america_rmse}\")"
   ],
   "outputs": [
    {
     "output_type": "stream",
     "name": "stdout",
     "text": [
      "north_america Out-of-Sample Root Mean Squared Error (RMSE): 0.8214365617190695\n"
     ]
    }
   ],
   "metadata": {}
  },
  {
   "cell_type": "code",
   "execution_count": 85,
   "source": [
    "# Construct a dataframe using just the \"y\" training data:\r\n",
    "north_america_in_sample_results = north_america_y_train.to_frame()\r\n",
    "\r\n",
    "# Add a column of \"in-sample\" predictions to that DataFrame:  \r\n",
    "north_america_in_sample_results[\"In-sample Predictions\"] = north_america_model.predict(north_america_X_train_scaled)\r\n",
    "\r\n",
    "# Calculate in-sample mean_squared_error (for comparison to out-of-sample)\r\n",
    "north_america_in_sample_mse = mean_squared_error(\r\n",
    "    north_america_in_sample_results[\"CO2 emissions (metric tons per capita)\"],\r\n",
    "    north_america_in_sample_results[\"In-sample Predictions\"]\r\n",
    ")\r\n",
    "\r\n",
    "# Calculate in-sample root mean_squared_error (for comparison to out-of-sample)\r\n",
    "north_america_in_sample_rmse = np.sqrt(north_america_in_sample_mse)\r\n",
    "print(f\"north_america In-sample Root Mean Squared Error (RMSE): {north_america_in_sample_rmse}\")"
   ],
   "outputs": [
    {
     "output_type": "stream",
     "name": "stdout",
     "text": [
      "north_america In-sample Root Mean Squared Error (RMSE): 0.9400376153524008\n"
     ]
    }
   ],
   "metadata": {}
  },
  {
   "cell_type": "markdown",
   "source": [
    "## Sub Sahran Africa Analysis"
   ],
   "metadata": {}
  },
  {
   "cell_type": "code",
   "execution_count": 86,
   "source": [
    "#Separate the features (X) from the Target (Y)\r\n",
    "sub_saharan_africa_y = sub_saharan_africa_df['CO2 emissions (metric tons per capita)']\r\n",
    "sub_saharan_africa_X = sub_saharan_africa_df.drop(['CO2 emissions (metric tons per capita)', 'Country Name'], axis = 1)"
   ],
   "outputs": [],
   "metadata": {}
  },
  {
   "cell_type": "code",
   "execution_count": 87,
   "source": [
    "#Split our data into training and testing\r\n",
    "\r\n",
    "sub_saharan_africa_X_train, sub_saharan_africa_X_test, sub_saharan_africa_y_train, sub_saharan_africa_y_test = train_test_split(sub_saharan_africa_X,\r\n",
    "                                                    sub_saharan_africa_y,\r\n",
    "                                                    test_size = 0.25,\r\n",
    "                                                    random_state = 42)\r\n",
    "print(sub_saharan_africa_X_train.shape, sub_saharan_africa_X_test.shape, sub_saharan_africa_y_train.shape, sub_saharan_africa_y_test.shape)"
   ],
   "outputs": [
    {
     "output_type": "stream",
     "name": "stdout",
     "text": [
      "(44, 3) (15, 3) (44,) (15,)\n"
     ]
    }
   ],
   "metadata": {}
  },
  {
   "cell_type": "code",
   "execution_count": 88,
   "source": [
    "#Fit the data and scale the data\r\n",
    "\r\n",
    "scaler = StandardScaler()\r\n",
    "sub_saharan_africa_X_scaler = scaler.fit(sub_saharan_africa_X_train)\r\n",
    "\r\n",
    "sub_saharan_africa_X_train_scaled = sub_saharan_africa_X_scaler.transform(sub_saharan_africa_X_train)\r\n",
    "sub_saharan_africa_X_test_scaled = sub_saharan_africa_X_scaler.transform(sub_saharan_africa_X_test)\r\n"
   ],
   "outputs": [],
   "metadata": {}
  },
  {
   "cell_type": "code",
   "execution_count": 89,
   "source": [
    "# Create a Linear Regression model and fit it to the data\r\n",
    "\r\n",
    "sub_saharan_africa_model = LinearRegression()\r\n",
    "sub_saharan_africa_model.fit(sub_saharan_africa_X_train_scaled, sub_saharan_africa_y_train)"
   ],
   "outputs": [
    {
     "output_type": "execute_result",
     "data": {
      "text/plain": [
       "LinearRegression()"
      ]
     },
     "metadata": {},
     "execution_count": 89
    }
   ],
   "metadata": {}
  },
  {
   "cell_type": "code",
   "execution_count": 90,
   "source": [
    "# Make predictions using the Scaled Testing Data\r\n",
    "\r\n",
    "sub_saharan_africa_predicted_y_values = sub_saharan_africa_model.predict(sub_saharan_africa_X_test_scaled)"
   ],
   "outputs": [],
   "metadata": {}
  },
  {
   "cell_type": "code",
   "execution_count": 91,
   "source": [
    "# Assemble actual y data (Y_test) with predicted y data (from just above) into two columns in a dataframe:\r\n",
    "sub_saharan_africa_Results = sub_saharan_africa_y_test.to_frame()\r\n",
    "sub_saharan_africa_Results[\"Predicted Emissions\"] = sub_saharan_africa_predicted_y_values\r\n",
    "sub_saharan_africa_Results = sub_saharan_africa_Results.sort_index()\r\n"
   ],
   "outputs": [],
   "metadata": {}
  },
  {
   "cell_type": "code",
   "execution_count": 92,
   "source": [
    "# Plot the results\r\n",
    "sub_saharan_africa_Results.plot()"
   ],
   "outputs": [
    {
     "output_type": "execute_result",
     "data": {
      "text/plain": [
       "<matplotlib.axes._subplots.AxesSubplot at 0x1b87fcda130>"
      ]
     },
     "metadata": {},
     "execution_count": 92
    },
    {
     "output_type": "display_data",
     "data": {
      "image/png": "[encoded data removed]",
      "text/plain": [
       "<Figure size 432x288 with 1 Axes>"
      ]
     },
     "metadata": {
      "needs_background": "light"
     }
    }
   ],
   "metadata": {}
  },
  {
   "cell_type": "code",
   "execution_count": 93,
   "source": [
    "# Calculate the mean_squared_error (MSE) on actual versus predicted test \"y\" \r\n",
    "sub_saharan_africa_mse = mean_squared_error(\r\n",
    "    sub_saharan_africa_Results[\"CO2 emissions (metric tons per capita)\"],\r\n",
    "    sub_saharan_africa_Results[\"Predicted Emissions\"]\r\n",
    ")\r\n",
    "\r\n",
    "# Using that mean-squared-error, calculate the root-mean-squared error (RMSE):\r\n",
    "sub_saharan_africa_rmse = np.sqrt(sub_saharan_africa_mse)\r\n",
    "print(f\"sub_saharan_africa Out-of-Sample Root Mean Squared Error (RMSE): {sub_saharan_africa_rmse}\")"
   ],
   "outputs": [
    {
     "output_type": "stream",
     "name": "stdout",
     "text": [
      "sub_saharan_africa Out-of-Sample Root Mean Squared Error (RMSE): 0.05283681236599145\n"
     ]
    }
   ],
   "metadata": {}
  },
  {
   "cell_type": "code",
   "execution_count": 94,
   "source": [
    "# Construct a dataframe using just the \"y\" training data:\r\n",
    "sub_saharan_africa_in_sample_results = sub_saharan_africa_y_train.to_frame()\r\n",
    "\r\n",
    "# Add a column of \"in-sample\" predictions to that DataFrame:  \r\n",
    "sub_saharan_africa_in_sample_results[\"In-sample Predictions\"] = sub_saharan_africa_model.predict(sub_saharan_africa_X_train_scaled)\r\n",
    "\r\n",
    "# Calculate in-sample mean_squared_error (for comparison to out-of-sample)\r\n",
    "sub_saharan_africa_in_sample_mse = mean_squared_error(\r\n",
    "    sub_saharan_africa_in_sample_results[\"CO2 emissions (metric tons per capita)\"],\r\n",
    "    sub_saharan_africa_in_sample_results[\"In-sample Predictions\"]\r\n",
    ")\r\n",
    "\r\n",
    "# Calculate in-sample root mean_squared_error (for comparison to out-of-sample)\r\n",
    "sub_saharan_africa_in_sample_rmse = np.sqrt(sub_saharan_africa_in_sample_mse)\r\n",
    "print(f\"sub_saharan_africa In-sample Root Mean Squared Error (RMSE): {sub_saharan_africa_in_sample_rmse}\")"
   ],
   "outputs": [
    {
     "output_type": "stream",
     "name": "stdout",
     "text": [
      "sub_saharan_africa In-sample Root Mean Squared Error (RMSE): 0.051869751271973664\n"
     ]
    }
   ],
   "metadata": {}
  },
  {
   "cell_type": "markdown",
   "source": [
    "## World Data"
   ],
   "metadata": {}
  },
  {
   "cell_type": "code",
   "execution_count": 95,
   "source": [
    "#Separate the features (X) from the Target (Y)\r\n",
    "world_y = world_df['CO2 emissions (metric tons per capita)']\r\n",
    "world_X = world_df.drop(['CO2 emissions (metric tons per capita)', 'Country Name'], axis = 1)"
   ],
   "outputs": [],
   "metadata": {}
  },
  {
   "cell_type": "code",
   "execution_count": 96,
   "source": [
    "#Split our data into training and testing\r\n",
    "\r\n",
    "world_X_train, world_X_test, world_y_train, world_y_test = train_test_split(world_X,\r\n",
    "                                                    world_y,\r\n",
    "                                                    test_size = 0.25,\r\n",
    "                                                    random_state = 42)\r\n",
    "print(world_X_train.shape, world_X_test.shape, world_y_train.shape, world_y_test.shape)"
   ],
   "outputs": [
    {
     "output_type": "stream",
     "name": "stdout",
     "text": [
      "(44, 3) (15, 3) (44,) (15,)\n"
     ]
    }
   ],
   "metadata": {}
  },
  {
   "cell_type": "code",
   "execution_count": 97,
   "source": [
    "#Fit the data and scale the data\r\n",
    "\r\n",
    "scaler = StandardScaler()\r\n",
    "world_X_scaler = scaler.fit(world_X_train)\r\n",
    "\r\n",
    "world_X_train_scaled = world_X_scaler.transform(world_X_train)\r\n",
    "world_X_test_scaled = world_X_scaler.transform(world_X_test)"
   ],
   "outputs": [],
   "metadata": {}
  },
  {
   "cell_type": "code",
   "execution_count": 98,
   "source": [
    "# Create a Linear Regression model and fit it to the data\r\n",
    "\r\n",
    "world_model = LinearRegression()\r\n",
    "world_model.fit(world_X_train_scaled, world_y_train)"
   ],
   "outputs": [
    {
     "output_type": "execute_result",
     "data": {
      "text/plain": [
       "LinearRegression()"
      ]
     },
     "metadata": {},
     "execution_count": 98
    }
   ],
   "metadata": {}
  },
  {
   "cell_type": "code",
   "execution_count": 99,
   "source": [
    "# Make predictions using the Scaled Testing Data\r\n",
    "\r\n",
    "world_predicted_y_values = world_model.predict(world_X_test_scaled)"
   ],
   "outputs": [],
   "metadata": {}
  },
  {
   "cell_type": "code",
   "execution_count": 100,
   "source": [
    "# Assemble actual y data (Y_test) with predicted y data (from just above) into two columns in a dataframe:\r\n",
    "world_Results = world_y_test.to_frame()\r\n",
    "world_Results[\"Predicted Emissions\"] = world_predicted_y_values\r\n",
    "world_Results = world_Results.sort_index()"
   ],
   "outputs": [],
   "metadata": {}
  },
  {
   "cell_type": "code",
   "execution_count": 101,
   "source": [
    "# Plot the results\r\n",
    "world_Results.plot()"
   ],
   "outputs": [
    {
     "output_type": "execute_result",
     "data": {
      "text/plain": [
       "<matplotlib.axes._subplots.AxesSubplot at 0x1b87fd3ee20>"
      ]
     },
     "metadata": {},
     "execution_count": 101
    },
    {
     "output_type": "display_data",
     "data": {
      "image/png": "[encoded data removed]",
      "text/plain": [
       "<Figure size 432x288 with 1 Axes>"
      ]
     },
     "metadata": {
      "needs_background": "light"
     }
    }
   ],
   "metadata": {}
  },
  {
   "cell_type": "code",
   "execution_count": 102,
   "source": [
    "# Calculate the mean_squared_error (MSE) on actual versus predicted test \"y\" \r\n",
    "world_mse = mean_squared_error(\r\n",
    "    world_Results[\"CO2 emissions (metric tons per capita)\"],\r\n",
    "    world_Results[\"Predicted Emissions\"]\r\n",
    ")\r\n",
    "\r\n",
    "# Using that mean-squared-error, calculate the root-mean-squared error (RMSE):\r\n",
    "world_rmse = np.sqrt(world_mse)\r\n",
    "print(f\"world Out-of-Sample Root Mean Squared Error (RMSE): {world_rmse}\")"
   ],
   "outputs": [
    {
     "output_type": "stream",
     "name": "stdout",
     "text": [
      "world Out-of-Sample Root Mean Squared Error (RMSE): 0.2279415095638008\n"
     ]
    }
   ],
   "metadata": {}
  },
  {
   "cell_type": "code",
   "execution_count": 103,
   "source": [
    "# Construct a dataframe using just the \"y\" training data:\r\n",
    "world_in_sample_results = world_y_train.to_frame()\r\n",
    "\r\n",
    "# Add a column of \"in-sample\" predictions to that DataFrame:  \r\n",
    "world_in_sample_results[\"In-sample Predictions\"] = world_model.predict(world_X_train_scaled)\r\n",
    "\r\n",
    "# Calculate in-sample mean_squared_error (for comparison to out-of-sample)\r\n",
    "world_in_sample_mse = mean_squared_error(\r\n",
    "    world_in_sample_results[\"CO2 emissions (metric tons per capita)\"],\r\n",
    "    world_in_sample_results[\"In-sample Predictions\"]\r\n",
    ")\r\n",
    "\r\n",
    "# Calculate in-sample root mean_squared_error (for comparison to out-of-sample)\r\n",
    "world_in_sample_rmse = np.sqrt(world_in_sample_mse)\r\n",
    "print(f\"world In-sample Root Mean Squared Error (RMSE): {world_in_sample_rmse}\")"
   ],
   "outputs": [
    {
     "output_type": "stream",
     "name": "stdout",
     "text": [
      "world In-sample Root Mean Squared Error (RMSE): 0.2283700591584777\n"
     ]
    }
   ],
   "metadata": {}
  }
 ],
 "metadata": {
  "kernelspec": {
   "name": "python3",
   "display_name": "Python 3.8.8 64-bit ('base': conda)"
  },
  "language_info": {
   "codemirror_mode": {
    "name": "ipython",
    "version": 3
   },
   "file_extension": ".py",
   "mimetype": "text/x-python",
   "name": "python",
   "nbconvert_exporter": "python",
   "pygments_lexer": "ipython3",
   "version": "3.8.8"
  },
  "interpreter": {
   "hash": "52575ae80af061cc64d8b7f38a5cb1b871b63f9c1317091abcb24f04cea2ba60"
  }
 },
 "nbformat": 4,
 "nbformat_minor": 5
}